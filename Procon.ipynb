{
  "cells": [
    {
      "cell_type": "markdown",
      "metadata": {
        "id": "view-in-github",
        "colab_type": "text"
      },
      "source": [
        "<a href=\"https://colab.research.google.com/github/tycianojr/dataengineer/blob/main/Procon.ipynb\" target=\"_parent\"><img src=\"https://colab.research.google.com/assets/colab-badge.svg\" alt=\"Open In Colab\"/></a>"
      ]
    },
    {
      "cell_type": "markdown",
      "id": "53fa861a-8f61-4c2f-9d18-dc1ca1338565",
      "metadata": {
        "id": "53fa861a-8f61-4c2f-9d18-dc1ca1338565"
      },
      "source": [
        "# Nível Pandas"
      ]
    },
    {
      "cell_type": "markdown",
      "id": "df51d60c-276c-4296-ace8-c40ca2921e0d",
      "metadata": {
        "id": "df51d60c-276c-4296-ace8-c40ca2921e0d"
      },
      "source": [
        "**Importação das bibliotecas necessárias:**"
      ]
    },
    {
      "cell_type": "code",
      "execution_count": null,
      "id": "e8c66e43-f5e3-4182-aa85-d061361cc949",
      "metadata": {
        "tags": [],
        "id": "e8c66e43-f5e3-4182-aa85-d061361cc949"
      },
      "outputs": [],
      "source": [
        "!pip install pandera"
      ]
    },
    {
      "cell_type": "code",
      "execution_count": 2,
      "id": "a3753fe4-d824-4e61-854d-0a8b0b98f89e",
      "metadata": {
        "tags": [],
        "id": "a3753fe4-d824-4e61-854d-0a8b0b98f89e"
      },
      "outputs": [],
      "source": [
        "import pandas as pd\n",
        "import numpy as np\n",
        "import pandera as pa"
      ]
    },
    {
      "cell_type": "code",
      "source": [
        "from google.colab import drive\n",
        "drive.mount('/content/drive')"
      ],
      "metadata": {
        "colab": {
          "base_uri": "https://localhost:8080/"
        },
        "id": "iQRnbWuD-YpE",
        "outputId": "25a2318a-80f5-4299-cde9-19c2d9b1364b"
      },
      "id": "iQRnbWuD-YpE",
      "execution_count": 9,
      "outputs": [
        {
          "output_type": "stream",
          "name": "stdout",
          "text": [
            "Mounted at /content/drive\n"
          ]
        }
      ]
    },
    {
      "cell_type": "markdown",
      "id": "41095d64-784d-4c1d-bc17-3c36e63f6e37",
      "metadata": {
        "id": "41095d64-784d-4c1d-bc17-3c36e63f6e37"
      },
      "source": [
        "**Extração de dados para o DataFrame:**"
      ]
    },
    {
      "cell_type": "code",
      "execution_count": null,
      "id": "dcf339c2-05bd-494a-b7f9-83e40b3cde1f",
      "metadata": {
        "id": "dcf339c2-05bd-494a-b7f9-83e40b3cde1f"
      },
      "outputs": [],
      "source": [
        "#Dataset 2012\n",
        "\n",
        "df = pd.read_csv('/content/drive/MyDrive/Procon/PROCON - 2012.csv', \n",
        "                 sep=',', \n",
        "                 parse_dates=['DataArquivamento', 'DataAbertura', 'AnoCalendario'], \n",
        "                 dayfirst=True,\n",
        ")\n",
        "\n",
        "#Dataset 2013\n",
        "\n",
        "df1 = pd.read_csv('/content/drive/MyDrive/Procon/PROCON - 2013.csv', \n",
        "                 sep=',', \n",
        "                 parse_dates=['DataArquivamento', 'DataAbertura', 'AnoCalendario'], \n",
        "                 dayfirst=True,\n",
        ")\n",
        "\n",
        "#Dataset 2014\n",
        "\n",
        "df2 = pd.read_csv('/content/drive/MyDrive/Procon/PROCON - 2014.csv', \n",
        "                 sep=',', \n",
        "                 parse_dates=['DataArquivamento', 'DataAbertura', 'AnoCalendario'], \n",
        "                 dayfirst=True,\n",
        ")\n",
        "\n",
        "#Dataset 2015\n",
        "\n",
        "df3 = pd.read_csv('/content/drive/MyDrive/Procon/PROCON - 2015.csv', \n",
        "                 sep=',', \n",
        "                 parse_dates=['DataArquivamento', 'DataAbertura', 'AnoCalendario'], \n",
        "                 dayfirst=True,\n",
        ")\n",
        "\n",
        "#Dataset 2016\n",
        "\n",
        "df4 = pd.read_csv('/content/drive/MyDrive/Procon/PROCON - 2016.csv', \n",
        "                 sep=',', \n",
        "                 parse_dates=['DataArquivamento', 'DataAbertura', 'AnoCalendario'], \n",
        "                 dayfirst=True,\n",
        ")\n",
        "\n"
      ]
    },
    {
      "cell_type": "markdown",
      "id": "38de4f41-ecec-476e-8e03-da7ebd3fb110",
      "metadata": {
        "id": "38de4f41-ecec-476e-8e03-da7ebd3fb110"
      },
      "source": [
        "**Concatenando DataSets:**"
      ]
    },
    {
      "cell_type": "code",
      "execution_count": 11,
      "id": "0c9d3b17-9a9d-4b7c-8dc0-71d1bc16020f",
      "metadata": {
        "id": "0c9d3b17-9a9d-4b7c-8dc0-71d1bc16020f"
      },
      "outputs": [],
      "source": [
        "frames = [df, df1, df2, df3, df4]\n",
        "dataframe = pd.concat(frames)"
      ]
    },
    {
      "cell_type": "markdown",
      "id": "9b9f75cd-672b-4c5d-bda0-2f2c382f6a0d",
      "metadata": {
        "id": "9b9f75cd-672b-4c5d-bda0-2f2c382f6a0d"
      },
      "source": [
        "**Analisando o DataFrame:**"
      ]
    },
    {
      "cell_type": "code",
      "execution_count": 12,
      "id": "a93e2440-e43e-4d0c-a784-cb15559aaa3a",
      "metadata": {
        "colab": {
          "base_uri": "https://localhost:8080/"
        },
        "id": "a93e2440-e43e-4d0c-a784-cb15559aaa3a",
        "outputId": "9545f2d1-cf59-44d6-8d54-6562393c4219"
      },
      "outputs": [
        {
          "output_type": "execute_result",
          "data": {
            "text/plain": [
              "['Academia de Ginástica / Natação / Esportes',\n",
              " 'Acessório Para Vestuário ( Bolsa, Cinto, Chapéu, guarda-chuva, Jóia, Bijuteria, Luva, Etc. )',\n",
              " 'Acessório Para Veículo ( Alarme, Amortecedor, Câmbio, Buzina, Estofamento, Lâmpada, Bateria, etc.)',\n",
              " 'Acessório para Aparelho Eletrônico/Pilha/Elétrico (Agulha, fone de ouvido, bateria, etc.)',\n",
              " 'Agências e Operadoras de viagens (pacotes turísticos)',\n",
              " 'Alimento dietético (exceto refrigerante dietético)',\n",
              " 'Alimentos infantis (leites próprios para crianças tipo nan, sopinha, neston, mucilon, cremogema)',\n",
              " 'Alimentos nutraceuticos (alimentos com finalidade terapêutica)',\n",
              " 'Alimentos para fins especiais (atletas, gestantes, idosos e bebidas isotônicas)',\n",
              " 'Aparelho Corretivo ( Ortopédico / Auditivo / Prótese / Acessório )',\n",
              " 'Aparelho DVD',\n",
              " 'Aparelho de Som ( Gravador, 3x1, CD )',\n",
              " 'Aparelhos de ginástica',\n",
              " 'Aquecedor / Ventilador / Ar Condicionado / Circulador de Ar',\n",
              " 'Artigo Esportivo / Lazer ( Bola, Raquete, Rede, Cotoveleira, Arma, Baralho, Roleta, Etc. )',\n",
              " 'Artigo Para Festa ( Bexiga, Máscara, Enfeites, Fogos, Balão, Etc. )',\n",
              " 'Artigo de Cozinha ( Coifa, Exaustor, Panela, Talher, Filtro de Café, Porta-Filtro, Louças, Etc. )',\n",
              " 'Artigo de Foto Imagem ( Filme, Ampliador, Luneta, Flash, Máquina Fotográfica, Binóculos, Etc. )',\n",
              " 'Artigo de Leitura ( Formal, Jornal, Revista, Folheto, Livros, Etc. )',\n",
              " 'Artigo de audiovisual ( Fita Cassete, Disco, Fita de Vídeo, CD )',\n",
              " 'Artigo e Instrumento Musical ( Cordas, Violão, Flautas, Etc. )',\n",
              " 'Artigos de Enxoval ( Cama / Mesa e Banho )',\n",
              " 'Assistência Técnica',\n",
              " 'Associações / Cooperativas / Sociedades Filantrópicas',\n",
              " 'Automóvel - Locação / Assistência Automobilística ( Clube do Automóvel, Etc. ) / Auto Escola',\n",
              " 'Açougue e Peixarias ( Produtos Crus Vendidos Neste Local )',\n",
              " 'Açúcar / Mel',\n",
              " 'Balança (informação nutricional, como valor calórico e relação peso/altura)',\n",
              " 'Banco comercial',\n",
              " 'Banco de Dados ( SPC - SERASA - ETC. )',\n",
              " 'Bares, Docerias, Chopperias, Casas Noturnas e Afins',\n",
              " 'Bebidas Alcoólicas',\n",
              " 'Bicicletas',\n",
              " 'Bolacha, biscoitos e petiscos',\n",
              " 'Botijão de Gás',\n",
              " 'Brinquedos',\n",
              " 'CARTÕES DE DESCONTOS',\n",
              " 'Café',\n",
              " 'Camping / Náutica / Pesca / ( Barraca, Lampião, Barco, Vela, Motor, Anzol, Vara, Jet Ski )',\n",
              " 'Canil / Pet Shop / Outros Estabelecimentos Que Comercializam Animais',\n",
              " 'Carnes e Derivados (Hambúrguer congelado cru, peitos de frango temperados congelados, embutidos: salame, mortadela, salsicha, etc.)',\n",
              " 'Carpete / Tapete ( Nylon, Madeira )',\n",
              " 'Carro Importado',\n",
              " 'Carro Nacional Zero ( Montadora )',\n",
              " 'Carro Usado',\n",
              " 'Cartão de Crédito',\n",
              " 'Cartão de Loja',\n",
              " 'Cartões de Descontos',\n",
              " 'Cartões de descontos',\n",
              " 'Cemitério',\n",
              " 'Charutaria ( Cigarro, Tabaco, Cachimbo, Etc. )',\n",
              " 'Chocolate (em pó, barra, tabletes, bombons)',\n",
              " 'Chá',\n",
              " 'Clubes / Uso Compartilhado ( Lazer, Recreação, Férias, Etc. )',\n",
              " 'Clínica Geriátrica ( Casa de Repouso / Internato / Similares )',\n",
              " 'Clínica Veterinária',\n",
              " 'Colchão',\n",
              " 'Combustível Automotivo ( Gasolina, Álcool, Diesel, Gás )',\n",
              " 'Complementos e suplementos nutricionais (óleo de fígado de bacalhau, levedo de cerveja, complexos vitamínicos e minerais, vitaminas e minerais isolados)',\n",
              " 'Comércio de Ouro',\n",
              " 'Condomínio',\n",
              " 'Conserva Animal (atum, sardinha, apresuntado, alite, feijoada, patê, etc.)',\n",
              " 'Conserva Vegetal (azeitona, ervilha, milho, palmito, aspargo, cogumelo) em qualquer tipo de embalagem.',\n",
              " 'Construção / Reforma / Montagem / Acabamento',\n",
              " 'Consultoria / Assessoria / Agenciamento ( Recolocação Profissional, Agência de Empregada, de Casamento, Etc. )',\n",
              " 'Consórcio Imobiliário',\n",
              " 'Consórcio de Automóveis ou Automotores, Utilitários, Caminhonetes',\n",
              " 'Consórcio de Bilhetes de Passagem Aérea e Pacote Turístico',\n",
              " 'Consórcio de Caminhões',\n",
              " 'Consórcio de Motocicletas',\n",
              " 'Consórcio de Outros Bens - Móveis Duráveis',\n",
              " 'Convênio de Assistência Médica / Odontológica',\n",
              " 'Convênio de Assistência Veterinária',\n",
              " 'Corretora de Seguros',\n",
              " 'Cortina / Persiana / Papel de Parede',\n",
              " 'Cosméticos ( Pó Facial / Talco / Creme e Loção de Beleza e de Barbear / Batom / Sombra / Bronzeadores / Protetor Solar / Depilador / Esmalte / Clareador e Tintu',\n",
              " 'Curso de Informática',\n",
              " 'Curso de Línguas',\n",
              " 'Cursos Livres Outros',\n",
              " 'Dedetizadora',\n",
              " 'Desentupidoras',\n",
              " 'Despachante',\n",
              " 'Diversão / Lazer / Cultura ( Teatro, Cinema, Casa Noturna, Videolocadora, Etc. )',\n",
              " 'Doces prontos (frutas em calda, cristalizadas, em geleias ou pastas, sorvetes, bala, suspiro, docinhos para festas enlatados, cristais de gengibre).',\n",
              " 'Doces prontos (frutas em calda, cristalizadas, em geleias ou pastas; sorvetes, bala, suspiro, docinhos para festas enlatados, cristais de gengibre).',\n",
              " 'Domissanitário / Saneante ( Desinfetante / Detergente / Cera / Creolina / Sabão / Água Sanitária ) Desinfetante ( Inseticida / Raticida Doméstico )',\n",
              " 'Eletrodoméstico Importado',\n",
              " 'Eletroeletrônico Importado',\n",
              " 'Eletroportáteis ( Batedeira, Liqüidificador, Espremedor de Frutas, Etc. )',\n",
              " 'Embalagem',\n",
              " 'Empresa Privada / Montepio Pecúlio (tbareaassunto Não Relativos ao Valor de Resgate)',\n",
              " 'Empresa de Cobrança',\n",
              " 'Energia Elétrica',\n",
              " 'Escola ( Pré, 1º, 2º Graus e Superior )',\n",
              " 'Especiarias e Condimentos (orégano, pimenta, cravo, canela, páprica, noz moscada, alho e cebola desidratados).',\n",
              " 'Estabelecimento / Loja - Compra a Prazo',\n",
              " 'Estabelecimento comercial (supermercado, loja, padaria, locadora, frutaria, etc.)',\n",
              " 'Estacionamento ( Particular, Supermercado, Shopping, Etc. )',\n",
              " 'Estética ( Clínica de Emagrecimento / Plástica / Implante de Cabelos / Salão de Beleza )',\n",
              " 'Eventos ( Festas, Buffet, Formatura, Etc. )',\n",
              " 'Farináceos (fubá, polvilho, etc.)',\n",
              " 'Farmácia / Drogaria',\n",
              " 'Feiras Itinerantes',\n",
              " 'Fermento em pó e o biológico',\n",
              " 'Ferramenta ( Alicate, Cortador de Grama, Furadeira, Pá, Pincel, Etc. )',\n",
              " 'Financeira',\n",
              " 'Fogão e Microondas',\n",
              " 'Foto / Vídeo / Som',\n",
              " 'Frutas e hortaliças (legumes, verduras, cebola e cabeça de alho in natura, embaladas com atmosfera modificada ou outro sistema de conservação)',\n",
              " 'Funerária',\n",
              " 'Fósforo',\n",
              " 'Geladeira e Freezer',\n",
              " 'Grãos, cereais (feijão, grão de bico, arroz, farelo de trigo, sucrilho, aveia, granola, creme de arroz)',\n",
              " 'Gás Encanado',\n",
              " 'Hospedagem ( Hotel, Pousada, Chalé, Albergue, Etc. )',\n",
              " 'Hospital / Pronto Socorro / Ambulatório / Clínica Médica',\n",
              " 'Incorporação ( Construtoras e Incorporadoras )',\n",
              " 'Informações sobre o Procon',\n",
              " 'Informática (Ex.:Provedor de Acesso a Internet)',\n",
              " 'Instalação ( Hidráulica / Elétrica ) / Perfuração / Pavimentação / Impermeabilização',\n",
              " 'Intercâmbio Cultural',\n",
              " 'Internet',\n",
              " 'Lavanderia / Tinturaria',\n",
              " 'Leasing',\n",
              " 'Leiloeiro',\n",
              " 'Leite e derivados (bebidas lácteas, iogurte, queijo, manteiga, creme de leite - normal, em pó e light)',\n",
              " 'Locação',\n",
              " 'Loteamento',\n",
              " 'Luminárias/lâmpadas',\n",
              " 'Massas',\n",
              " 'Material de Acabamento de Construção Pronto (Portão, Azulejos, Tintas, Pisos Para Revestimento, Paviflex )',\n",
              " 'Material de Construção (areia, cimento, tijolo, pregos, lajes, blocos, etc.)',\n",
              " 'Material de Escritório / Escola ( Arquivo, Borracha, Clipes, Grampeador, Sulfite, Caderno, Caneta, Apontador, Etc. )',\n",
              " 'Medicamento Alopático ( Manipulado / Industrializado )',\n",
              " 'Medicamento Homeopático / Fitoterápico ( Manipulado / Industrializado )',\n",
              " 'Microcomputador / Produtos de Informática',\n",
              " 'Molhos (maionese, mostarda, ketchup, shoyo, inglês)',\n",
              " 'Motos',\n",
              " 'Mudanças',\n",
              " 'Máquina de Lavar Roupa / Louça e Secadora',\n",
              " 'Máquinas e Equipamentos',\n",
              " 'Móveis (outros)',\n",
              " 'Móveis Para Banheiro',\n",
              " 'Móveis Para Cozinha',\n",
              " 'Móveis Para Quarto',\n",
              " 'Móveis Para Sala',\n",
              " 'Oficinas ( Mecânica, Funilaria, Auto-Elétrica, Borracharia )',\n",
              " 'Outros Contratos',\n",
              " 'Outros Produtos Importados',\n",
              " 'Outros Profissionais Liberais ( Esteticista / Massagista / Farmacêutico )',\n",
              " 'Outros Seguros',\n",
              " 'Outros Serviços ( Laboratório de Análises Clínicas / Clínicas Que Realizam Exames / Remoção )',\n",
              " 'Ovos',\n",
              " 'Padaria ( Pão-Francês, Pão de Centeio, Bolos, Bombas, Biscoitos, Massas Prontas Para Tortas, Docinhos, Confeitos e Outros )',\n",
              " 'Paes e bolos industrializados (pão de forma, bisnagas, bolos tipo Pullmam)',\n",
              " 'Peixes e frutos do mar (congelados e embalados)',\n",
              " 'Piscina ( Fibra ) / Sauna / Banheira de Hidromassagem',\n",
              " 'Plano Odontológico',\n",
              " 'Plano de Assistência Funerária',\n",
              " 'Plano de saúde NÃO regulamentado',\n",
              " 'Plano de saúde regulamentado',\n",
              " 'Plantas',\n",
              " 'Pneu',\n",
              " 'Pratos prontos/pré preparados (tortas, pão de queijo, carnes recheadas cruas tipo marinados, nugets, salgadinhos, coxinhas, bolinhas de queijos e outros, pratos',\n",
              " 'Prestadora de Serviço de Reabilitação de Nome',\n",
              " 'Produto Para Uso Veterinário ( Medicamento / Sabonete / Shampoo )',\n",
              " 'Produto Químico ( Acetona / Creolina / Querosene / Cloro Puro - Para Piscinas )',\n",
              " 'Produto de Higiene ( Absorvente / Fralda / Lenço de Papel Umedecidos / Papel Higiênico Perfumado / Sabonete / Shampoo / Condicionador / Creme e Escova Dental /',\n",
              " 'Produto de Uso Pessoal ( Barbeador, Depilador, Secador, Outros )',\n",
              " 'Produtos Correlatos ( Preservativo / Gaze / Esparadrapo / Curativo Adesivo / Agulha / Seringa / Termômetro / Inalador / Cotonetes )',\n",
              " 'Produtos Doméstico ( Escada, Balança, Overloque, Máquina de Costura / Tricô, Vassoura, Escova, Rodo, Saco de Lixo, Palha de Aço )',\n",
              " 'Produtos de Decoração ( Cinzeiro, Vasos, Abajur )',\n",
              " 'Produtos importados (todos os produtos)',\n",
              " 'Profissional Liberal ( Contador, Arquiteto )',\n",
              " 'Profissional Liberal - Dentista',\n",
              " 'Profissional Liberal - Médico',\n",
              " 'Profissional Liberal - Veterinário',\n",
              " 'Purificador de Água / Filtro',\n",
              " 'Pós para preparo (refresco, gelatina, pudim, bolos, pão de queijo, pizza e sorvete)',\n",
              " 'Radiochamada / Pager',\n",
              " 'Ração animal',\n",
              " 'Refrigerantes (normal, dietético e light)',\n",
              " 'Restaurante / Fast Food ( Refeições / Sanduíches Servidos Pelo Local )',\n",
              " 'Seguro',\n",
              " 'Seguro Residencial',\n",
              " 'Seguro Saúde',\n",
              " 'Seguro de Automóvel',\n",
              " 'Seguro de Vida',\n",
              " 'Serviços Postais',\n",
              " 'Serviços Telefônicos Especiais ( Disque 900 / Erótico, Etc. )',\n",
              " 'Serviços de Marcenaria',\n",
              " 'Serviços de Serralheria ( Portão, Grades, Janelas, Etc. )',\n",
              " 'Serviços de Tapeçaria / Costura',\n",
              " 'Serviços de Vidraçaria',\n",
              " 'Sociedade em conta de participação',\n",
              " 'Sopas (desidratadas, liofilizadas, latas e embaladas)',\n",
              " 'Suco (concentrado, prontos para beber, gelatina em floquinhos)',\n",
              " 'Supermercado ( Paes e Outros Produtos Feitos na Panificadora do Supermercado, Verduras, Frutas e Legumes In Natura, Carnes Cruas e Peixes Frescos do',\n",
              " 'TV Por Assinatura ( Cabo, Satélite, Etc. )',\n",
              " 'Telefone ( Convencional, Celular, Interfone, Etc. )',\n",
              " 'Telefonia Celular',\n",
              " 'Telefonia Comunitária ( PABX, DDR, Etc. )',\n",
              " 'Telefonia Fixa ( Plano de Expansão / Compra e Venda / Locação )',\n",
              " 'Telemarketing',\n",
              " 'Televisão / Vídeo Cassete / Filmadora / Video-Laser',\n",
              " 'Temperos prontos (ajinomoto, sal com alho, etc.)',\n",
              " 'Ticket (vale refeição, alimentação e leite)',\n",
              " 'Titulo de Capitalização',\n",
              " 'Tomate e derivados (in natura, extratos, molhos, polpa)',\n",
              " 'Transporte  ( Passageiros, Cargas )',\n",
              " 'Transporte ( Rodoviário, Passageiros, Cargas, Aéreo, Marítimo, etc. )',\n",
              " 'Transporte Escolar',\n",
              " 'Venda Através de Reembolso Postal /  Domicílio',\n",
              " 'Venda Programada',\n",
              " 'Venda a Domicílio / Reembolso Postal',\n",
              " 'Venda através de reembolso postal a domicilio',\n",
              " 'Venda por Internet',\n",
              " 'Venda por telemarketing',\n",
              " 'Vestuário ( Calçado / Roupa )',\n",
              " 'Água',\n",
              " 'Água / Esgoto',\n",
              " 'Óleos e gorduras (margarina normal e light, gordura vegetal hidrogenada, etc.)',\n",
              " 'Óticas ( Lentes / Óculos )']"
            ]
          },
          "metadata": {},
          "execution_count": 12
        }
      ],
      "source": [
        "sorted(pd.unique(dataframe['DescricaoAssunto']))"
      ]
    },
    {
      "cell_type": "code",
      "execution_count": 13,
      "id": "1b519843-0d6b-4cce-8a25-cbd94df81cf5",
      "metadata": {
        "colab": {
          "base_uri": "https://localhost:8080/"
        },
        "id": "1b519843-0d6b-4cce-8a25-cbd94df81cf5",
        "outputId": "bbaf703e-d4e9-476c-e6e9-aa784127f75a"
      },
      "outputs": [
        {
          "output_type": "execute_result",
          "data": {
            "text/plain": [
              "AnoCalendario            datetime64[ns]\n",
              "DataArquivamento         datetime64[ns]\n",
              "DataAbertura             datetime64[ns]\n",
              "CodigoRegiao                      int64\n",
              "Regiao                           object\n",
              "UF                               object\n",
              "strRazaoSocial                   object\n",
              "strNomeFantasia                  object\n",
              "Tipo                              int64\n",
              "NumeroCNPJ                      float64\n",
              "RadicalCNPJ                     float64\n",
              "RazaoSocialRFB                   object\n",
              "NomeFantasiaRFB                  object\n",
              "CNAEPrincipal                   float64\n",
              "DescCNAEPrincipal                object\n",
              "Atendida                         object\n",
              "CodigoAssunto                     int64\n",
              "DescricaoAssunto                 object\n",
              "CodigoProblema                  float64\n",
              "DescricaoProblema                object\n",
              "SexoConsumidor                   object\n",
              "FaixaEtariaConsumidor            object\n",
              "CEPConsumidor                    object\n",
              "dtype: object"
            ]
          },
          "metadata": {},
          "execution_count": 13
        }
      ],
      "source": [
        "dataframe.dtypes"
      ]
    },
    {
      "cell_type": "markdown",
      "id": "5f474a5b-23e9-4e83-b29c-6a4740ee6df6",
      "metadata": {
        "id": "5f474a5b-23e9-4e83-b29c-6a4740ee6df6"
      },
      "source": [
        "**Filtragem dos Dados:**"
      ]
    },
    {
      "cell_type": "code",
      "execution_count": 14,
      "id": "b2dd0409-da9b-4178-be2d-f57a950e62c9",
      "metadata": {
        "id": "b2dd0409-da9b-4178-be2d-f57a950e62c9"
      },
      "outputs": [],
      "source": [
        "normalized = dataframe.loc[dataframe['DescricaoAssunto'].isin(['Banco comercial',\n",
        "                                    'Cartão de Crédito', \n",
        "                                    'Consórcio Imobiliário',\n",
        "                                    'Consórcio de Automóveis ou Automotores, Utilitários, Caminhonetes',\n",
        "                                    'Consórcio de Bilhetes de Passagem Aérea e Pacote Turístico',\n",
        "                                    'Consórcio de Caminhões',\n",
        "                                    'Consórcio de Motocicletas',\n",
        "                                    'Consórcio de Outros Bens - Móveis Duráveis',\n",
        "                                    'Financeira',\n",
        "                                    'Titulo de capitalizacao'])] \n",
        "\n",
        "\n",
        "inplace=True\n"
      ]
    },
    {
      "cell_type": "markdown",
      "id": "68aae434-9c2f-4f2f-95ee-ce700a2ffc5c",
      "metadata": {
        "id": "68aae434-9c2f-4f2f-95ee-ce700a2ffc5c"
      },
      "source": [
        "**Renomeando Colunas:**"
      ]
    },
    {
      "cell_type": "code",
      "execution_count": null,
      "id": "620bb560-322c-482d-b7f5-87706f6fb30a",
      "metadata": {
        "id": "620bb560-322c-482d-b7f5-87706f6fb30a"
      },
      "outputs": [],
      "source": [
        "normalized.rename(\n",
        "    columns={\n",
        "        'strRazaoSocial':'RazaoSocial',\n",
        "        'strNomeFantasia':'NomeFantasia',\n",
        "        'DescCNAEPrincipal':'AtividadePrincial',\n",
        "        'Atendida':'StatusAtendimento',\n",
        "        }\n",
        "\n",
        ", inplace=True\n",
        ")"
      ]
    },
    {
      "cell_type": "markdown",
      "id": "79e687b5-1243-4982-af94-56f8b5e22df6",
      "metadata": {
        "id": "79e687b5-1243-4982-af94-56f8b5e22df6"
      },
      "source": [
        "**Dropando Colunas:**"
      ]
    },
    {
      "cell_type": "code",
      "execution_count": null,
      "id": "965f9b5a-2dff-4e8a-b9ef-73f41d3c1117",
      "metadata": {
        "id": "965f9b5a-2dff-4e8a-b9ef-73f41d3c1117"
      },
      "outputs": [],
      "source": [
        "normalized.drop(['CodigoRegiao',\n",
        "         'Tipo', \n",
        "         'NumeroCNPJ', \n",
        "         'CNAEPrincipal', \n",
        "         'CEPConsumidor',\n",
        "         'NomeFantasiaRFB',\n",
        "         'RadicalCNPJ',\n",
        "         'RazaoSocialRFB',\n",
        "         'CodigoProblema',\n",
        "         'CodigoAssunto'], \n",
        "        \n",
        "axis=1, inplace=True)"
      ]
    },
    {
      "cell_type": "markdown",
      "id": "c3f771b6-7fba-4734-90b7-718f324a090d",
      "metadata": {
        "id": "c3f771b6-7fba-4734-90b7-718f324a090d"
      },
      "source": [
        "**Verificando inconsistência dos Dados:**"
      ]
    },
    {
      "cell_type": "code",
      "execution_count": null,
      "id": "a4ee1904-12a6-4380-8f55-edea239fb2b3",
      "metadata": {
        "id": "a4ee1904-12a6-4380-8f55-edea239fb2b3"
      },
      "outputs": [],
      "source": [
        "normalized.loc[normalized.NomeFantasia.isna(), ['NomeFantasia']] = 'Não informado'\n"
      ]
    },
    {
      "cell_type": "code",
      "execution_count": null,
      "id": "32acfb91-d645-49a3-a9b0-0755c6ef192f",
      "metadata": {
        "id": "32acfb91-d645-49a3-a9b0-0755c6ef192f"
      },
      "outputs": [],
      "source": [
        "normalized.loc[normalized.AtividadePrincial.isnull(), ['AtividadePrincial']] = 'Não informado'"
      ]
    },
    {
      "cell_type": "code",
      "execution_count": null,
      "id": "f1eb5839-66ce-43fa-a19b-77da72c4005c",
      "metadata": {
        "id": "f1eb5839-66ce-43fa-a19b-77da72c4005c"
      },
      "outputs": [],
      "source": [
        "normalized.loc[normalized.RazaoSocial.isnull(), ['RazaoSocial']] = 'Não informado'"
      ]
    },
    {
      "cell_type": "code",
      "execution_count": 22,
      "id": "9c768401-ce83-4251-979d-b770526b4897",
      "metadata": {
        "colab": {
          "base_uri": "https://localhost:8080/"
        },
        "id": "9c768401-ce83-4251-979d-b770526b4897",
        "outputId": "97d8d856-21ab-4f8b-975e-33e83f4fda8d"
      },
      "outputs": [
        {
          "output_type": "execute_result",
          "data": {
            "text/plain": [
              "AnoCalendario            0\n",
              "DataArquivamento         0\n",
              "DataAbertura             0\n",
              "Regiao                   0\n",
              "UF                       0\n",
              "RazaoSocial              0\n",
              "NomeFantasia             0\n",
              "AtividadePrincial        0\n",
              "StatusAtendimento        0\n",
              "DescricaoAssunto         0\n",
              "DescricaoProblema        5\n",
              "SexoConsumidor           0\n",
              "FaixaEtariaConsumidor    0\n",
              "dtype: int64"
            ]
          },
          "metadata": {},
          "execution_count": 22
        }
      ],
      "source": [
        "normalized.isnull().sum() "
      ]
    },
    {
      "cell_type": "markdown",
      "id": "e434edb2-0968-414a-bfcb-325cd8a550a2",
      "metadata": {
        "id": "e434edb2-0968-414a-bfcb-325cd8a550a2"
      },
      "source": [
        "**Exportando para Bucket:**"
      ]
    },
    {
      "cell_type": "code",
      "execution_count": 23,
      "id": "a62c99b4-6868-440e-a92d-c846405dd2ca",
      "metadata": {
        "colab": {
          "base_uri": "https://localhost:8080/",
          "height": 973
        },
        "id": "a62c99b4-6868-440e-a92d-c846405dd2ca",
        "outputId": "01f7d770-f97b-4dc9-b787-97e361701d5f"
      },
      "outputs": [
        {
          "output_type": "execute_result",
          "data": {
            "text/html": [
              "\n",
              "  <div id=\"df-ae03915a-68df-4dce-aa87-26591a722bbf\">\n",
              "    <div class=\"colab-df-container\">\n",
              "      <div>\n",
              "<style scoped>\n",
              "    .dataframe tbody tr th:only-of-type {\n",
              "        vertical-align: middle;\n",
              "    }\n",
              "\n",
              "    .dataframe tbody tr th {\n",
              "        vertical-align: top;\n",
              "    }\n",
              "\n",
              "    .dataframe thead th {\n",
              "        text-align: right;\n",
              "    }\n",
              "</style>\n",
              "<table border=\"1\" class=\"dataframe\">\n",
              "  <thead>\n",
              "    <tr style=\"text-align: right;\">\n",
              "      <th></th>\n",
              "      <th>AnoCalendario</th>\n",
              "      <th>DataArquivamento</th>\n",
              "      <th>DataAbertura</th>\n",
              "      <th>Regiao</th>\n",
              "      <th>UF</th>\n",
              "      <th>RazaoSocial</th>\n",
              "      <th>NomeFantasia</th>\n",
              "      <th>AtividadePrincial</th>\n",
              "      <th>StatusAtendimento</th>\n",
              "      <th>DescricaoAssunto</th>\n",
              "      <th>DescricaoProblema</th>\n",
              "      <th>SexoConsumidor</th>\n",
              "      <th>FaixaEtariaConsumidor</th>\n",
              "    </tr>\n",
              "  </thead>\n",
              "  <tbody>\n",
              "    <tr>\n",
              "      <th>0</th>\n",
              "      <td>2012-01-01</td>\n",
              "      <td>2012-07-13 17:44:45</td>\n",
              "      <td>2009-09-17 10:48:42</td>\n",
              "      <td>Sudeste</td>\n",
              "      <td>ES</td>\n",
              "      <td>IBI PROMOTORA DE VENDAS LTDA.</td>\n",
              "      <td>IBI CARD</td>\n",
              "      <td>ATIVIDADES DE INTERMEDIAÇÃO E AGENCIAMENTO DE ...</td>\n",
              "      <td>N</td>\n",
              "      <td>Cartão de Crédito</td>\n",
              "      <td>Calculo de prestação em atraso</td>\n",
              "      <td>F</td>\n",
              "      <td>mais de 70 anos</td>\n",
              "    </tr>\n",
              "    <tr>\n",
              "      <th>9</th>\n",
              "      <td>2012-01-01</td>\n",
              "      <td>2012-12-05 13:50:18</td>\n",
              "      <td>2009-05-15 12:33:24</td>\n",
              "      <td>Centro-oeste</td>\n",
              "      <td>DF</td>\n",
              "      <td>REAL LEASING S.A. ARRENDAMENTO MERCANTIL</td>\n",
              "      <td>SUDAMERIS</td>\n",
              "      <td>ARRENDAMENTO MERCANTIL</td>\n",
              "      <td>N</td>\n",
              "      <td>Financeira</td>\n",
              "      <td>Cobrança indevida.</td>\n",
              "      <td>F</td>\n",
              "      <td>entre 51 a 60 anos</td>\n",
              "    </tr>\n",
              "    <tr>\n",
              "      <th>25</th>\n",
              "      <td>2012-01-01</td>\n",
              "      <td>2012-01-04 11:45:49</td>\n",
              "      <td>2010-06-08 12:19:00</td>\n",
              "      <td>Norte</td>\n",
              "      <td>AP</td>\n",
              "      <td>BANCO PAULISTA S/A</td>\n",
              "      <td>BANCO PAULISTA</td>\n",
              "      <td>BANCOS COMERCIAIS</td>\n",
              "      <td>N</td>\n",
              "      <td>Financeira</td>\n",
              "      <td>Crédito Consignado</td>\n",
              "      <td>F</td>\n",
              "      <td>entre 31 a 40 anos</td>\n",
              "    </tr>\n",
              "    <tr>\n",
              "      <th>28</th>\n",
              "      <td>2012-01-01</td>\n",
              "      <td>2012-09-27 16:37:00</td>\n",
              "      <td>2009-03-25 09:11:45</td>\n",
              "      <td>Nordeste</td>\n",
              "      <td>CE</td>\n",
              "      <td>BANCO CITICARD S/A</td>\n",
              "      <td>CREDICARD CITI</td>\n",
              "      <td>BANCOS MÚLTIPLOS, SEM CARTEIRA COMERCIAL</td>\n",
              "      <td>S</td>\n",
              "      <td>Cartão de Crédito</td>\n",
              "      <td>Cobrança indevida.</td>\n",
              "      <td>M</td>\n",
              "      <td>entre 51 a 60 anos</td>\n",
              "    </tr>\n",
              "    <tr>\n",
              "      <th>34</th>\n",
              "      <td>2012-01-01</td>\n",
              "      <td>2012-06-12 18:03:35</td>\n",
              "      <td>2009-12-23 13:37:46</td>\n",
              "      <td>Sudeste</td>\n",
              "      <td>ES</td>\n",
              "      <td>HIPERCARD BANCO MULTIPLO S.A.</td>\n",
              "      <td>FININVEST/HIPERCARD</td>\n",
              "      <td>BANCOS MÚLTIPLOS, COM CARTEIRA COMERCIAL</td>\n",
              "      <td>S</td>\n",
              "      <td>Cartão de Crédito</td>\n",
              "      <td>Cobrança indevida.</td>\n",
              "      <td>M</td>\n",
              "      <td>entre 41 a 50 anos</td>\n",
              "    </tr>\n",
              "    <tr>\n",
              "      <th>...</th>\n",
              "      <td>...</td>\n",
              "      <td>...</td>\n",
              "      <td>...</td>\n",
              "      <td>...</td>\n",
              "      <td>...</td>\n",
              "      <td>...</td>\n",
              "      <td>...</td>\n",
              "      <td>...</td>\n",
              "      <td>...</td>\n",
              "      <td>...</td>\n",
              "      <td>...</td>\n",
              "      <td>...</td>\n",
              "      <td>...</td>\n",
              "    </tr>\n",
              "    <tr>\n",
              "      <th>203461</th>\n",
              "      <td>2016-01-01</td>\n",
              "      <td>2016-05-03 13:33:36</td>\n",
              "      <td>2016-01-05 07:29:07</td>\n",
              "      <td>Sudeste</td>\n",
              "      <td>SP</td>\n",
              "      <td>EMBRACON ADMINISTRADORA DE CONSORCIO LTDA</td>\n",
              "      <td>CONSORCIO NACIONAL EMBRACON</td>\n",
              "      <td>ADMINISTRAÇÃO DE CONSÓRCIOS PARA AQUISIÇÃO DE ...</td>\n",
              "      <td>N</td>\n",
              "      <td>Consórcio de Automóveis ou Automotores, Utilit...</td>\n",
              "      <td>Contrato (não cumprimento, alteração, transfer...</td>\n",
              "      <td>M</td>\n",
              "      <td>entre 21 a 30 anos</td>\n",
              "    </tr>\n",
              "    <tr>\n",
              "      <th>203462</th>\n",
              "      <td>2016-01-01</td>\n",
              "      <td>2016-06-27 16:33:26</td>\n",
              "      <td>2015-10-22 10:21:10</td>\n",
              "      <td>Sudeste</td>\n",
              "      <td>SP</td>\n",
              "      <td>EMBRACON ADMINISTRADORA DE CONSORCIO LTDA</td>\n",
              "      <td>CONSORCIO NACIONAL EMBRACON</td>\n",
              "      <td>ADMINISTRAÇÃO DE CONSÓRCIOS PARA AQUISIÇÃO DE ...</td>\n",
              "      <td>N</td>\n",
              "      <td>Consórcio Imobiliário</td>\n",
              "      <td>Contrato (não cumprimento, alteração, transfer...</td>\n",
              "      <td>F</td>\n",
              "      <td>entre 41 a 50 anos</td>\n",
              "    </tr>\n",
              "    <tr>\n",
              "      <th>203473</th>\n",
              "      <td>2016-01-01</td>\n",
              "      <td>2016-03-08 10:37:42</td>\n",
              "      <td>2015-12-30 10:43:39</td>\n",
              "      <td>Sudeste</td>\n",
              "      <td>SP</td>\n",
              "      <td>CAIXA ECONÔMICA FEDERAL</td>\n",
              "      <td>Não informado</td>\n",
              "      <td>CAIXAS ECONÔMICAS</td>\n",
              "      <td>N</td>\n",
              "      <td>Cartão de Crédito</td>\n",
              "      <td>Lançamento Não Reconhecido na Fatura</td>\n",
              "      <td>F</td>\n",
              "      <td>até 20 anos</td>\n",
              "    </tr>\n",
              "    <tr>\n",
              "      <th>203477</th>\n",
              "      <td>2016-01-01</td>\n",
              "      <td>2016-08-11 14:25:13</td>\n",
              "      <td>2016-05-11 08:05:02</td>\n",
              "      <td>Sudeste</td>\n",
              "      <td>SP</td>\n",
              "      <td>VIA VAREJO S/A</td>\n",
              "      <td>PONTO FRIO / CASAS BAHIA</td>\n",
              "      <td>COMÉRCIO VAREJISTA ESPECIALIZADO DE ELETRODOMÉ...</td>\n",
              "      <td>N</td>\n",
              "      <td>Cartão de Crédito</td>\n",
              "      <td>Calculo de antecipação de prestação</td>\n",
              "      <td>M</td>\n",
              "      <td>até 20 anos</td>\n",
              "    </tr>\n",
              "    <tr>\n",
              "      <th>203484</th>\n",
              "      <td>2016-01-01</td>\n",
              "      <td>2016-08-16 10:58:52</td>\n",
              "      <td>2016-04-19 07:58:16</td>\n",
              "      <td>Sudeste</td>\n",
              "      <td>SP</td>\n",
              "      <td>FINANCEIRA ITAU CBD S/A CRÉDITO FINANCIAMENTO ...</td>\n",
              "      <td>FIC FINANCEIRA ITAÚ CBD / FIT</td>\n",
              "      <td>SOCIEDADES DE CRÉDITO, FINANCIAMENTO E INVESTI...</td>\n",
              "      <td>S</td>\n",
              "      <td>Banco comercial</td>\n",
              "      <td>Cobrança indevida/abusiva</td>\n",
              "      <td>F</td>\n",
              "      <td>entre 21 a 30 anos</td>\n",
              "    </tr>\n",
              "  </tbody>\n",
              "</table>\n",
              "<p>180761 rows × 13 columns</p>\n",
              "</div>\n",
              "      <button class=\"colab-df-convert\" onclick=\"convertToInteractive('df-ae03915a-68df-4dce-aa87-26591a722bbf')\"\n",
              "              title=\"Convert this dataframe to an interactive table.\"\n",
              "              style=\"display:none;\">\n",
              "        \n",
              "  <svg xmlns=\"http://www.w3.org/2000/svg\" height=\"24px\"viewBox=\"0 0 24 24\"\n",
              "       width=\"24px\">\n",
              "    <path d=\"M0 0h24v24H0V0z\" fill=\"none\"/>\n",
              "    <path d=\"M18.56 5.44l.94 2.06.94-2.06 2.06-.94-2.06-.94-.94-2.06-.94 2.06-2.06.94zm-11 1L8.5 8.5l.94-2.06 2.06-.94-2.06-.94L8.5 2.5l-.94 2.06-2.06.94zm10 10l.94 2.06.94-2.06 2.06-.94-2.06-.94-.94-2.06-.94 2.06-2.06.94z\"/><path d=\"M17.41 7.96l-1.37-1.37c-.4-.4-.92-.59-1.43-.59-.52 0-1.04.2-1.43.59L10.3 9.45l-7.72 7.72c-.78.78-.78 2.05 0 2.83L4 21.41c.39.39.9.59 1.41.59.51 0 1.02-.2 1.41-.59l7.78-7.78 2.81-2.81c.8-.78.8-2.07 0-2.86zM5.41 20L4 18.59l7.72-7.72 1.47 1.35L5.41 20z\"/>\n",
              "  </svg>\n",
              "      </button>\n",
              "      \n",
              "  <style>\n",
              "    .colab-df-container {\n",
              "      display:flex;\n",
              "      flex-wrap:wrap;\n",
              "      gap: 12px;\n",
              "    }\n",
              "\n",
              "    .colab-df-convert {\n",
              "      background-color: #E8F0FE;\n",
              "      border: none;\n",
              "      border-radius: 50%;\n",
              "      cursor: pointer;\n",
              "      display: none;\n",
              "      fill: #1967D2;\n",
              "      height: 32px;\n",
              "      padding: 0 0 0 0;\n",
              "      width: 32px;\n",
              "    }\n",
              "\n",
              "    .colab-df-convert:hover {\n",
              "      background-color: #E2EBFA;\n",
              "      box-shadow: 0px 1px 2px rgba(60, 64, 67, 0.3), 0px 1px 3px 1px rgba(60, 64, 67, 0.15);\n",
              "      fill: #174EA6;\n",
              "    }\n",
              "\n",
              "    [theme=dark] .colab-df-convert {\n",
              "      background-color: #3B4455;\n",
              "      fill: #D2E3FC;\n",
              "    }\n",
              "\n",
              "    [theme=dark] .colab-df-convert:hover {\n",
              "      background-color: #434B5C;\n",
              "      box-shadow: 0px 1px 3px 1px rgba(0, 0, 0, 0.15);\n",
              "      filter: drop-shadow(0px 1px 2px rgba(0, 0, 0, 0.3));\n",
              "      fill: #FFFFFF;\n",
              "    }\n",
              "  </style>\n",
              "\n",
              "      <script>\n",
              "        const buttonEl =\n",
              "          document.querySelector('#df-ae03915a-68df-4dce-aa87-26591a722bbf button.colab-df-convert');\n",
              "        buttonEl.style.display =\n",
              "          google.colab.kernel.accessAllowed ? 'block' : 'none';\n",
              "\n",
              "        async function convertToInteractive(key) {\n",
              "          const element = document.querySelector('#df-ae03915a-68df-4dce-aa87-26591a722bbf');\n",
              "          const dataTable =\n",
              "            await google.colab.kernel.invokeFunction('convertToInteractive',\n",
              "                                                     [key], {});\n",
              "          if (!dataTable) return;\n",
              "\n",
              "          const docLinkHtml = 'Like what you see? Visit the ' +\n",
              "            '<a target=\"_blank\" href=https://colab.research.google.com/notebooks/data_table.ipynb>data table notebook</a>'\n",
              "            + ' to learn more about interactive tables.';\n",
              "          element.innerHTML = '';\n",
              "          dataTable['output_type'] = 'display_data';\n",
              "          await google.colab.output.renderOutput(dataTable, element);\n",
              "          const docLink = document.createElement('div');\n",
              "          docLink.innerHTML = docLinkHtml;\n",
              "          element.appendChild(docLink);\n",
              "        }\n",
              "      </script>\n",
              "    </div>\n",
              "  </div>\n",
              "  "
            ],
            "text/plain": [
              "       AnoCalendario    DataArquivamento  ... SexoConsumidor FaixaEtariaConsumidor\n",
              "0         2012-01-01 2012-07-13 17:44:45  ...              F       mais de 70 anos\n",
              "9         2012-01-01 2012-12-05 13:50:18  ...              F    entre 51 a 60 anos\n",
              "25        2012-01-01 2012-01-04 11:45:49  ...              F    entre 31 a 40 anos\n",
              "28        2012-01-01 2012-09-27 16:37:00  ...              M    entre 51 a 60 anos\n",
              "34        2012-01-01 2012-06-12 18:03:35  ...              M    entre 41 a 50 anos\n",
              "...              ...                 ...  ...            ...                   ...\n",
              "203461    2016-01-01 2016-05-03 13:33:36  ...              M    entre 21 a 30 anos\n",
              "203462    2016-01-01 2016-06-27 16:33:26  ...              F    entre 41 a 50 anos\n",
              "203473    2016-01-01 2016-03-08 10:37:42  ...              F           até 20 anos\n",
              "203477    2016-01-01 2016-08-11 14:25:13  ...              M           até 20 anos\n",
              "203484    2016-01-01 2016-08-16 10:58:52  ...              F    entre 21 a 30 anos\n",
              "\n",
              "[180761 rows x 13 columns]"
            ]
          },
          "metadata": {},
          "execution_count": 23
        }
      ],
      "source": [
        "normalized"
      ]
    }
  ],
  "metadata": {
    "environment": {
      "kernel": "python3",
      "name": "common-cpu.m87",
      "type": "gcloud",
      "uri": "gcr.io/deeplearning-platform-release/base-cpu:m87"
    },
    "kernelspec": {
      "display_name": "Python 3",
      "language": "python",
      "name": "python3"
    },
    "language_info": {
      "codemirror_mode": {
        "name": "ipython",
        "version": 3
      },
      "file_extension": ".py",
      "mimetype": "text/x-python",
      "name": "python",
      "nbconvert_exporter": "python",
      "pygments_lexer": "ipython3",
      "version": "3.7.12"
    },
    "colab": {
      "name": "Procon.ipynb",
      "provenance": [],
      "include_colab_link": true
    }
  },
  "nbformat": 4,
  "nbformat_minor": 5
}