{
  "nbformat": 4,
  "nbformat_minor": 0,
  "metadata": {
    "colab": {
      "name": "Projeto_Final_json.ipynb",
      "provenance": [],
      "collapsed_sections": []
    },
    "kernelspec": {
      "name": "python3",
      "display_name": "Python 3"
    },
    "language_info": {
      "name": "python"
    }
  },
  "cells": [
    {
      "cell_type": "markdown",
      "metadata": {
        "id": "f4vkbGeguz4J"
      },
      "source": [
        "# Base de dados usada para a realização desse projeto\n",
        "\n",
        "[COVID-19 Cases, hospitalizations and deaths, County](https://catalog.data.gov/dataset/covid-19-cases-hospitalizations-and-deaths-by-county/resource/9151346d-21bd-4f13-a7e2-ac27103ef698)"
      ]
    },
    {
      "cell_type": "code",
      "metadata": {
        "id": "x6U3RB--q7G5"
      },
      "source": [
        "# Instalando Biblioteca Pandera\n",
        "\n",
        "!pip install pandera\n"
      ],
      "execution_count": null,
      "outputs": []
    },
    {
      "cell_type": "markdown",
      "metadata": {
        "id": "8srLEQ36vaZe"
      },
      "source": [
        "# Importando Bibliotecas para a utlização do pandas, pandera, ler arquivos json e acessar o bucket do GCP"
      ]
    },
    {
      "cell_type": "code",
      "metadata": {
        "id": "1dRUsSTyNerM"
      },
      "source": [
        "# Importando Bibliotecas\n",
        "\n",
        "import pandas as pd\n",
        "import pandera as pa\n",
        "import json\n",
        "from google.cloud import storage\n"
      ],
      "execution_count": null,
      "outputs": []
    },
    {
      "cell_type": "markdown",
      "metadata": {
        "id": "NYCzQ9LLv7_G"
      },
      "source": [
        "# Utilizando chave de Serviço do GCP"
      ]
    },
    {
      "cell_type": "code",
      "metadata": {
        "id": "2vL95K23O_Fz"
      },
      "source": [
        "storage_client = storage.Client.from_service_account_json('/content/drive/MyDrive/Dados/Projeto_Final/chave_projeto-finalsc01-b94741ddd471.json')\n"
      ],
      "execution_count": null,
      "outputs": []
    },
    {
      "cell_type": "markdown",
      "metadata": {
        "id": "vHRAqqqHwEWh"
      },
      "source": [
        "# Acessando Bucket do Projeto"
      ]
    },
    {
      "cell_type": "code",
      "metadata": {
        "id": "s_si7znRQCLq"
      },
      "source": [
        "bucket_name = 'projeto-finalsc01'\n",
        "bucket = storage_client.get_bucket(bucket_name)\n"
      ],
      "execution_count": null,
      "outputs": []
    },
    {
      "cell_type": "markdown",
      "metadata": {
        "id": "0sQEN5WlwPx8"
      },
      "source": [
        "# Listando Arquivos no Bucket"
      ]
    },
    {
      "cell_type": "code",
      "metadata": {
        "id": "5A5c_haKTzeH"
      },
      "source": [
        "filename = list(bucket.list_blobs(prefix=''))\n",
        "for name in filename:\n",
        "  print(name.name)\n"
      ],
      "execution_count": null,
      "outputs": []
    },
    {
      "cell_type": "markdown",
      "metadata": {
        "id": "8ZlbdigcwY4Z"
      },
      "source": [
        "# Carregando Dataset json"
      ]
    },
    {
      "cell_type": "code",
      "metadata": {
        "id": "WBp72v6eUE1x"
      },
      "source": [
        "blob = bucket.blob('dados-brutos/COVID_US_HOSPITALIZATION.json')\n",
        "data = json.loads(blob.download_as_string(client=None))\n"
      ],
      "execution_count": null,
      "outputs": []
    },
    {
      "cell_type": "markdown",
      "metadata": {
        "id": "xMoAqU1Xwfvu"
      },
      "source": [
        "# Criando DataFrame ordenado por Dados utilizando pandas"
      ]
    },
    {
      "cell_type": "code",
      "metadata": {
        "id": "J0RVMWbbXn5j"
      },
      "source": [
        "df = pd.DataFrame(data[\"data\"])\n",
        "df\n"
      ],
      "execution_count": null,
      "outputs": []
    },
    {
      "cell_type": "markdown",
      "metadata": {
        "id": "P8FkZ1O3xV-k"
      },
      "source": [
        "# Analisando a base de dados"
      ]
    },
    {
      "cell_type": "code",
      "metadata": {
        "id": "-jXrppJqxQV2"
      },
      "source": [
        "print(df.info())\n"
      ],
      "execution_count": null,
      "outputs": []
    },
    {
      "cell_type": "markdown",
      "metadata": {
        "id": "s7bfBZSOynWC"
      },
      "source": [
        "# Vizualização do schema"
      ]
    },
    {
      "cell_type": "code",
      "metadata": {
        "id": "bKem2EcqypFd"
      },
      "source": [
        "pd.DataFrame(data['meta']['view'][\"columns\"])\n"
      ],
      "execution_count": null,
      "outputs": []
    },
    {
      "cell_type": "markdown",
      "metadata": {
        "id": "RbQnqeOpzO0N"
      },
      "source": [
        "# Deletando colunas que não fazem sentido para a análise de dados"
      ]
    },
    {
      "cell_type": "code",
      "metadata": {
        "id": "SY7lZBStnt1H"
      },
      "source": [
        "df.drop([0,1,2,3,4,5,6,7,], axis = 1, inplace=True)\n"
      ],
      "execution_count": null,
      "outputs": []
    },
    {
      "cell_type": "markdown",
      "metadata": {
        "id": "xk9CEHLWzjDK"
      },
      "source": [
        "# Traduzindo o Schema para Português-BR"
      ]
    },
    {
      "cell_type": "code",
      "metadata": {
        "id": "YldA-VNOxAzL"
      },
      "source": [
        "df.rename(columns={\n",
        "    8:'Data_Atualizacao',\n",
        "    9:'Condado_Codigo',\n",
        "    10:'Condado',\n",
        "    11:'Casos_Total',\n",
        "    12:'Casos_Confirmados',\n",
        "    13:'Casos_Provaveis',\n",
        "    14:'Casos_Total_Taxa',\n",
        "    15:'Casos_Hospitalizados',\n",
        "    16:'Obitos_Total',\n",
        "    17:'Obitos_Confirmados',\n",
        "    18:'Obitos_Provaveis'\n",
        "\n",
        "}, inplace=True)\n"
      ],
      "execution_count": null,
      "outputs": []
    },
    {
      "cell_type": "markdown",
      "metadata": {
        "id": "naApq7hfzxl6"
      },
      "source": [
        "# Verificando os valores nulos"
      ]
    },
    {
      "cell_type": "code",
      "metadata": {
        "id": "KGf7iLupaWql"
      },
      "source": [
        "df.isna().sum()\n"
      ],
      "execution_count": null,
      "outputs": []
    },
    {
      "cell_type": "markdown",
      "metadata": {
        "id": "g3-Xji-C0A5g"
      },
      "source": [
        "# Substituindo valores nulos por 0."
      ]
    },
    {
      "cell_type": "code",
      "metadata": {
        "id": "R8fHSOhxeNQs"
      },
      "source": [
        "df.replace([None], '0', inplace=True)\n"
      ],
      "execution_count": null,
      "outputs": []
    },
    {
      "cell_type": "markdown",
      "metadata": {
        "id": "jAnML6AQ0InQ"
      },
      "source": [
        "# Modificando o tipo de dado de algumas colunas para fazer a validação"
      ]
    },
    {
      "cell_type": "code",
      "metadata": {
        "id": "XncSqy_GXMNU"
      },
      "source": [
        "# Alterando tipo de dados da Coluna 'Data_Atualizacao' para datetime\n",
        "\n",
        "df['Data_Atualizacao'] =  pd.to_datetime(df['Data_Atualizacao'])\n"
      ],
      "execution_count": null,
      "outputs": []
    },
    {
      "cell_type": "code",
      "metadata": {
        "id": "1deDmlLGDzO7"
      },
      "source": [
        "# Alterando tipo de dados da Coluna 'Condado' para String\n",
        "\n",
        "df[['Condado']] = df[['Condado']].astype(str)\n"
      ],
      "execution_count": null,
      "outputs": []
    },
    {
      "cell_type": "code",
      "metadata": {
        "id": "93AA3STUD-t0"
      },
      "source": [
        "# Listando Dados Únicos na Coluna 'Condado'\n",
        "\n",
        "sorted(pd.unique(df['Condado']))\n"
      ],
      "execution_count": null,
      "outputs": []
    },
    {
      "cell_type": "code",
      "metadata": {
        "id": "rdLDrT-WHjiP"
      },
      "source": [
        "# Procurar um dado em uma coluna e alterar\n",
        "# Acrescentar 'County aos nomes dos Condados\n",
        "\n",
        "\n",
        "df.loc[df.Condado == 'Fairfield', ['Condado']] = 'Fairfield County'\n",
        "df.loc[df.Condado == 'Hartford', ['Condado']] = 'Hartford County'\n",
        "df.loc[df.Condado == 'Litchfield', ['Condado']] = 'Litchfield County'\n",
        "df.loc[df.Condado == 'Middlesex', ['Condado']] = 'Middlesex County'\n",
        "df.loc[df.Condado == 'New Haven', ['Condado']] = 'New Haven County'\n",
        "df.loc[df.Condado == 'New London', ['Condado']] = 'New London County'\n",
        "df.loc[df.Condado == 'Tolland', ['Condado']] = 'Tolland County'\n",
        "df.loc[df.Condado == 'Windham', ['Condado']] = 'Windham County'\n"
      ],
      "execution_count": null,
      "outputs": []
    },
    {
      "cell_type": "code",
      "metadata": {
        "id": "WrXYmurmYYOE"
      },
      "source": [
        "# Alterando tipo de dados da Coluna 'Condado_Codigo' para Int\n",
        "\n",
        "df[['Condado_Codigo']] = df[['Condado_Codigo']].astype(int)\n"
      ],
      "execution_count": null,
      "outputs": []
    },
    {
      "cell_type": "code",
      "metadata": {
        "id": "_EOFExTyZn8t"
      },
      "source": [
        "# Alterando tipo de dados da Coluna 'Casos_Total' para Int\n",
        "\n",
        "df[['Casos_Total']] = df[['Casos_Total']].astype(int)\n"
      ],
      "execution_count": null,
      "outputs": []
    },
    {
      "cell_type": "code",
      "metadata": {
        "id": "XYwuRSTcZ6bV"
      },
      "source": [
        "# Alterando tipo de dados da Coluna 'Casos_Confirmados' para Int\n",
        "\n",
        "df[['Casos_Confirmados']] = df[['Casos_Confirmados']].astype(int)\n"
      ],
      "execution_count": null,
      "outputs": []
    },
    {
      "cell_type": "code",
      "metadata": {
        "id": "J7oQBrpOgbQY"
      },
      "source": [
        "# Alterando tipo de dados da Coluna 'Casos_Provaveis' para Int\n",
        "\n",
        "df[['Casos_Provaveis']] = df[['Casos_Provaveis']].astype(int)\n"
      ],
      "execution_count": null,
      "outputs": []
    },
    {
      "cell_type": "code",
      "metadata": {
        "id": "TZfKtkIigk-c"
      },
      "source": [
        "# Alterando tipo de dados da Coluna 'Casos_Total_Taxa' para Float\n",
        "\n",
        "df[['Casos_Total_Taxa']] = df[['Casos_Total_Taxa']].astype(float)\n"
      ],
      "execution_count": null,
      "outputs": []
    },
    {
      "cell_type": "code",
      "metadata": {
        "id": "aHY59zIAgw3E"
      },
      "source": [
        "# Alterando tipo de dados da Coluna 'Casos_Hospitalizados' para Int\n",
        "\n",
        "df[['Casos_Hospitalizados']] = df[['Casos_Hospitalizados']].astype(int)\n"
      ],
      "execution_count": null,
      "outputs": []
    },
    {
      "cell_type": "code",
      "metadata": {
        "id": "5ZWgL_iWg5Ob"
      },
      "source": [
        "# Alterando tipo de dados da Coluna 'Obitos_Total' para Int\n",
        "\n",
        "df[['Obitos_Total']] = df[['Obitos_Total']].astype(int)\n"
      ],
      "execution_count": null,
      "outputs": []
    },
    {
      "cell_type": "code",
      "metadata": {
        "id": "zZ4LGMYChAyP"
      },
      "source": [
        "# Alterando tipo de dados da Coluna 'Obitos_Confirmados' para Int\n",
        "\n",
        "df[['Obitos_Confirmados']] = df[['Obitos_Confirmados']].astype(int)\n"
      ],
      "execution_count": null,
      "outputs": []
    },
    {
      "cell_type": "code",
      "metadata": {
        "id": "crwdltRdhJNS"
      },
      "source": [
        "# Alterando tipo de dados da Coluna 'Obitos_Provaveis' para Int\n",
        "\n",
        "df[['Obitos_Provaveis']] = df[['Obitos_Provaveis']].astype(int)\n"
      ],
      "execution_count": null,
      "outputs": []
    },
    {
      "cell_type": "markdown",
      "metadata": {
        "id": "TWl8yiAc01LP"
      },
      "source": [
        "# Validando os dados do DataFrame usando a biblioteca panderas."
      ]
    },
    {
      "cell_type": "code",
      "metadata": {
        "id": "a5qF7A2RnjFz"
      },
      "source": [
        "# Validando Dados do Dataframe\n",
        "\n",
        "schema = pa.DataFrameSchema(\n",
        "    columns = {\n",
        "        \"Data_Atualizacao\":pa.Column(pa.DateTime),\n",
        "        \"Condado_Codigo\":pa.Column(pa.Int),\n",
        "        \"Condado\":pa.Column(pa.String),\n",
        "        \"Casos_Total\":pa.Column(pa.Int),\n",
        "        \"Casos_Confirmados\":pa.Column(pa.Int),\n",
        "        \"Casos_Provaveis\":pa.Column(pa.Int),\n",
        "        \"Casos_Total_Taxa\":pa.Column(pa.Float),\n",
        "        \"Casos_Hospitalizados\":pa.Column(pa.Int),\n",
        "        \"Obitos_Total\":pa.Column(pa.Int),\n",
        "        \"Obitos_Confirmados\":pa.Column(pa.Int),\n",
        "        \"Obitos_Provaveis\":pa.Column(pa.Int)\n",
        "    }\n",
        ")\n",
        "\n",
        "schema.validate(df)\n"
      ],
      "execution_count": null,
      "outputs": []
    },
    {
      "cell_type": "markdown",
      "metadata": {
        "id": "0wxJNTQx1NRh"
      },
      "source": [
        "# Conferindo Dados do Dataframe"
      ]
    },
    {
      "cell_type": "code",
      "metadata": {
        "id": "8Vcs5hLnXN5Z"
      },
      "source": [
        "# Listando tipos de dados nas Colunas\n",
        "\n",
        "print(df.info())\n"
      ],
      "execution_count": null,
      "outputs": []
    },
    {
      "cell_type": "markdown",
      "metadata": {
        "id": "t7qJ2itp1Syv"
      },
      "source": [
        "# Criando DataFrames Únicos para cada Condado e salvando no Bucket do GCP"
      ]
    },
    {
      "cell_type": "code",
      "metadata": {
        "id": "gRuY00RmFJJT"
      },
      "source": [
        "# Criando DataFrame para o Condado Fairfield County\n",
        "\n",
        "df_Fairfield_County = df.loc[df.Condado == 'Fairfield County']\n",
        "df_Fairfield_County\n"
      ],
      "execution_count": null,
      "outputs": []
    },
    {
      "cell_type": "code",
      "metadata": {
        "id": "MAc8c5ocIotz"
      },
      "source": [
        "# Salvando DataFrame do Condado Fairfield County no Bucket do GCP\n",
        "\n",
        "bucket = storage_client.get_bucket('projeto-finalsc01')\n",
        "bucket.blob('dados-tratados/Fairfield_County_Hospitalizacoes.csv').upload_from_string(df_Fairfield_County.to_csv(index=False),'Fairfield_County_Hospitalizacoes.csv' )"
      ],
      "execution_count": null,
      "outputs": []
    },
    {
      "cell_type": "code",
      "metadata": {
        "id": "P8hcZJBeG5Jx"
      },
      "source": [
        "# Criando DataFrame para o Condado Hartford County\n",
        "\n",
        "df_Hartford_County = df.loc[df.Condado == 'Hartford County']\n",
        "df_Hartford_County\n"
      ],
      "execution_count": null,
      "outputs": []
    },
    {
      "cell_type": "code",
      "metadata": {
        "id": "dcwPlzRdJbv_"
      },
      "source": [
        "# Salvando DataFrame do Condado Hartford County no Bucket do GCP\n",
        "\n",
        "bucket = storage_client.get_bucket('projeto-finalsc01')\n",
        "bucket.blob('dados-tratados/Hartford_County_Hospitalizacoes.csv').upload_from_string(df_Hartford_County.to_csv(index=False),'Hartford_County_Hospitalizacoes.csv' )"
      ],
      "execution_count": null,
      "outputs": []
    },
    {
      "cell_type": "code",
      "metadata": {
        "id": "_C7UeY6EHK-f"
      },
      "source": [
        "# Criando DataFrame para o Condado Litchfield County\n",
        "\n",
        "df_Litchfield_County = df.loc[df.Condado == 'Litchfield County']\n",
        "df_Litchfield_County\n"
      ],
      "execution_count": null,
      "outputs": []
    },
    {
      "cell_type": "code",
      "metadata": {
        "id": "n9Z-2ndLJjHI"
      },
      "source": [
        "# Salvando DataFrame do Condado Litchfield County no Bucket do GCP\n",
        "\n",
        "bucket = storage_client.get_bucket('projeto-finalsc01')\n",
        "bucket.blob('dados-tratados/Litchfield_County_Hospitalizacoes.csv').upload_from_string(df_Litchfield_County.to_csv(index=False),'Litchfield_County_Hospitalizacoes.csv' )"
      ],
      "execution_count": null,
      "outputs": []
    },
    {
      "cell_type": "code",
      "metadata": {
        "id": "Ly20HS-4HMB6"
      },
      "source": [
        "# Criando DataFrame para o Condado Middlesex County\n",
        "\n",
        "df_Middlesex_County = df.loc[df.Condado == 'Middlesex County']\n",
        "df_Middlesex_County\n"
      ],
      "execution_count": null,
      "outputs": []
    },
    {
      "cell_type": "code",
      "metadata": {
        "id": "fishUw85JkLC"
      },
      "source": [
        "# Salvando DataFrame do Condado Middlesex County no Bucket do GCP\n",
        "\n",
        "bucket = storage_client.get_bucket('projeto-finalsc01')\n",
        "bucket.blob('dados-tratados/Middlesex_County_Hospitalizacoes.csv').upload_from_string(df_Middlesex_County.to_csv(index=False),'Middlesex_County_Hospitalizacoes.csv' )"
      ],
      "execution_count": null,
      "outputs": []
    },
    {
      "cell_type": "code",
      "metadata": {
        "id": "fpLdIHY2HM75"
      },
      "source": [
        "# Criando DataFrame para o Condado New Haven County\n",
        "\n",
        "df_New_Haven_County = df.loc[df.Condado == 'New Haven County']\n",
        "df_New_Haven_County\n"
      ],
      "execution_count": null,
      "outputs": []
    },
    {
      "cell_type": "code",
      "metadata": {
        "id": "Pb5VezskJlh4"
      },
      "source": [
        "# Salvando DataFrame do Condado New Haven County no Bucket do GCP\n",
        "\n",
        "bucket = storage_client.get_bucket('projeto-finalsc01')\n",
        "bucket.blob('dados-tratados/New_Haven_County_Hospitalizacoes.csv').upload_from_string(df_New_Haven_County.to_csv(index=False),'New_Haven_County_Hospitalizacoes.csv' )"
      ],
      "execution_count": null,
      "outputs": []
    },
    {
      "cell_type": "code",
      "metadata": {
        "id": "9Fus7NLvHNzh"
      },
      "source": [
        "# Criando DataFrame para o Condado New London County\n",
        "\n",
        "df_New_London_County = df.loc[df.Condado == 'New London County']\n",
        "df_New_London_County\n"
      ],
      "execution_count": null,
      "outputs": []
    },
    {
      "cell_type": "code",
      "metadata": {
        "id": "2v9Hc8i8Jmgm"
      },
      "source": [
        "# Salvando DataFrame do Condado New London County no Bucket do GCP\n",
        "\n",
        "bucket = storage_client.get_bucket('projeto-finalsc01')\n",
        "bucket.blob('dados-tratados/New_London_County_Hospitalizacoes.csv').upload_from_string(df_New_London_County.to_csv(index=False),'New_London_County_Hospitalizacoes.csv' )"
      ],
      "execution_count": null,
      "outputs": []
    },
    {
      "cell_type": "code",
      "metadata": {
        "id": "A0C8qFVeHOxM"
      },
      "source": [
        "# Criando DataFrame para o Condado Tolland County\n",
        "\n",
        "df_Tolland_County = df.loc[df.Condado == 'Tolland County']\n",
        "df_Tolland_County\n"
      ],
      "execution_count": null,
      "outputs": []
    },
    {
      "cell_type": "code",
      "metadata": {
        "id": "mIpfDOQdJnyi"
      },
      "source": [
        "# Salvando DataFrame do Condado Tolland County no Bucket do GCP\n",
        "\n",
        "bucket = storage_client.get_bucket('projeto-finalsc01')\n",
        "bucket.blob('dados-tratados/Tolland_County_Hospitalizacoes.csv').upload_from_string(df_Tolland_County.to_csv(index=False),'Tolland_County_Hospitalizacoes.csv' )"
      ],
      "execution_count": null,
      "outputs": []
    },
    {
      "cell_type": "code",
      "metadata": {
        "id": "cMsT16biHPpW"
      },
      "source": [
        "# Criando DataFrame para o Condado Windham County\n",
        "\n",
        "df_Windham_County = df.loc[df.Condado == 'Windham County']\n",
        "df_Windham_County\n"
      ],
      "execution_count": null,
      "outputs": []
    },
    {
      "cell_type": "code",
      "metadata": {
        "id": "mpNiHd0HJot2"
      },
      "source": [
        "# Salvando DataFrame do Condado Windham County no Bucket do GCP\n",
        "\n",
        "bucket = storage_client.get_bucket('projeto-finalsc01')\n",
        "bucket.blob('dados-tratados/Windham_County_Hospitalizacoes.csv').upload_from_string(df_Windham_County.to_csv(index=False),'Windham_County_Hospitalizacoes.csv' )"
      ],
      "execution_count": null,
      "outputs": []
    },
    {
      "cell_type": "markdown",
      "metadata": {
        "id": "tRP7WwVb2COg"
      },
      "source": [
        "# Salvando as transformações realizadas no DataFrame para o Bucket do GCP"
      ]
    },
    {
      "cell_type": "code",
      "metadata": {
        "id": "wXfJNLkNzt9B"
      },
      "source": [
        "# Salvando DataFrame normalizado no Bucket do GCP\n",
        "\n",
        "bucket = storage_client.get_bucket('projeto-finalsc01')\n",
        "bucket.blob('dados-tratados/Casos_Hospitalizacoes_Obitos_Cidade.csv').upload_from_string(df.to_csv(index=False),'Casos_Hospitalizacoes_Obitos_Cidade.csv' )"
      ],
      "execution_count": null,
      "outputs": []
    }
  ]
}