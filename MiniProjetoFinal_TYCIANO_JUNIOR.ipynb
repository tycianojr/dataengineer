{
  "nbformat": 4,
  "nbformat_minor": 0,
  "metadata": {
    "colab": {
      "name": "MiniProjetoFinal - TYCIANO JUNIOR.ipynb",
      "provenance": [],
      "collapsed_sections": [
        "_GyaSbxoqw2s",
        "oatHXqrmwAAC",
        "A_Cz5fhywewP",
        "Mc0E6XX3RiWA",
        "Vv2br5ePxEK7",
        "hyGdbevxkkAL",
        "IBOJyr_nb3m2",
        "E_bV_lkGqgaj",
        "2BxvH5n3i49B",
        "XBs9a9-MmDuy",
        "AMjhkF8Nq4NW",
        "AeK7Rr-B3hh6",
        "i9VT6hng5aEb"
      ],
      "mount_file_id": "1cUyB6zADEFhBjf7dF99b0y3hy1YVRu_M",
      "authorship_tag": "ABX9TyNX1ugXVH75e+l8phjs1Hcw",
      "include_colab_link": true
    },
    "kernelspec": {
      "name": "python3",
      "display_name": "Python 3"
    },
    "language_info": {
      "name": "python"
    }
  },
  "cells": [
    {
      "cell_type": "markdown",
      "metadata": {
        "id": "view-in-github",
        "colab_type": "text"
      },
      "source": [
        "<a href=\"https://colab.research.google.com/github/tycianojr/dataengineer/blob/main/MiniProjetoFinal_TYCIANO_JUNIOR.ipynb\" target=\"_parent\"><img src=\"https://colab.research.google.com/assets/colab-badge.svg\" alt=\"Open In Colab\"/></a>"
      ]
    },
    {
      "cell_type": "markdown",
      "metadata": {
        "id": "_GyaSbxoqw2s"
      },
      "source": [
        "# Importação da Biblioteca Pandas"
      ]
    },
    {
      "cell_type": "code",
      "metadata": {
        "id": "ea7p3x4Rmmt7"
      },
      "source": [
        "import pandas as pd"
      ],
      "execution_count": null,
      "outputs": []
    },
    {
      "cell_type": "markdown",
      "metadata": {
        "id": "oatHXqrmwAAC"
      },
      "source": [
        "# Realizando a extração do dataframe"
      ]
    },
    {
      "cell_type": "code",
      "metadata": {
        "colab": {
          "base_uri": "https://localhost:8080/"
        },
        "id": "BWxVYh3oHhO4",
        "outputId": "0d4aef83-f6ec-4cde-d7ad-38f0bcd45e50"
      },
      "source": [
        "from google.colab import drive\n",
        "drive.mount('/content/drive')"
      ],
      "execution_count": null,
      "outputs": [
        {
          "output_type": "stream",
          "name": "stdout",
          "text": [
            "Drive already mounted at /content/drive; to attempt to forcibly remount, call drive.mount(\"/content/drive\", force_remount=True).\n"
          ]
        }
      ]
    },
    {
      "cell_type": "code",
      "metadata": {
        "id": "aojoIs0onDmn"
      },
      "source": [
        "df = pd.read_csv(\"/content/drive/MyDrive/Meus Dados/Mini Projeto Final/marketing_campaign.csv .csv\",sep=\",\", parse_dates=['Dt_Customer'], dayfirst=True) #O tipo da coluna Dt_Customer foi alterado para parse dates\n",
        "df\n"
      ],
      "execution_count": null,
      "outputs": []
    },
    {
      "cell_type": "markdown",
      "metadata": {
        "id": "A_Cz5fhywewP"
      },
      "source": [
        "# Analisando o Dataframe"
      ]
    },
    {
      "cell_type": "code",
      "metadata": {
        "id": "Cl3bJsQbwZar"
      },
      "source": [
        "df.head(30)"
      ],
      "execution_count": null,
      "outputs": []
    },
    {
      "cell_type": "code",
      "metadata": {
        "id": "IB1CgZuTOAZ-",
        "colab": {
          "base_uri": "https://localhost:8080/"
        },
        "outputId": "60c00b1e-d710-4d51-9d86-e0f38a1e6a78"
      },
      "source": [
        "#É necessario analisar as colunas com datas para converter\n",
        "\n",
        "df.dtypes "
      ],
      "execution_count": null,
      "outputs": [
        {
          "output_type": "execute_result",
          "data": {
            "text/plain": [
              "ID                              int64\n",
              "Year_Birth                      int64\n",
              "Education                      object\n",
              "Marital_Status                 object\n",
              "Income                        float64\n",
              "Kidhome                         int64\n",
              "Teenhome                        int64\n",
              "Dt_Customer            datetime64[ns]\n",
              "Recency                         int64\n",
              "MntWines                        int64\n",
              "MntFruits                       int64\n",
              "MntMeatProducts                 int64\n",
              "MntFishProducts                 int64\n",
              "MntSweetProducts                int64\n",
              "MntGoldProds                    int64\n",
              "NumDealsPurchases               int64\n",
              "NumWebPurchases                 int64\n",
              "NumCatalogPurchases             int64\n",
              "NumStorePurchases               int64\n",
              "NumWebVisitsMonth               int64\n",
              "AcceptedCmp3                    int64\n",
              "AcceptedCmp4                    int64\n",
              "AcceptedCmp5                    int64\n",
              "AcceptedCmp1                    int64\n",
              "AcceptedCmp2                    int64\n",
              "Complain                        int64\n",
              "Z_CostContact                   int64\n",
              "Z_Revenue                       int64\n",
              "Response                        int64\n",
              "dtype: object"
            ]
          },
          "metadata": {},
          "execution_count": 5
        }
      ]
    },
    {
      "cell_type": "markdown",
      "metadata": {
        "id": "Mc0E6XX3RiWA"
      },
      "source": [
        "# Tradução dos Dados para PT-BR\n"
      ]
    },
    {
      "cell_type": "code",
      "metadata": {
        "id": "kpLF6Povq3gS"
      },
      "source": [
        "df.rename(\n",
        "    columns={\n",
        "        'Year_Birth':'Ano_de_Nascimento',\n",
        "       'Education':'Nivel_de_Escolaridade',\n",
        "        'Marital_Status':'Estado_Civil',\n",
        "        'Income':'Renda',\n",
        "        'Kidhome':'Criancas_em_Casa',\n",
        "        'Teenhome':'Adolescentes_em_Casa',\n",
        "        'Dt_Customer':'DataDeOcorrencia',\n",
        "        'Recency':'Recente',\n",
        "        'MntWines':'QntVinhos',\n",
        "        'MntFruits':'QntFrutas',\n",
        "        'MntMeatProducts':'QntProdutos_Carne',\n",
        "        'MntFishProducts':'QntProdutos_Peixe',\n",
        "        'MntSweetProducts':'QntProdutos_Doce',\n",
        "        'MntGoldProds':'Qnt_ProtudosDeOuro',\n",
        "        'NumDealsPurchases':'NumAcordoDeCompras',\n",
        "        'NumWebPurchases':'NumDeComprasViaInternet',\n",
        "        'NumCatalogPurchases':'NumDeComprasViaCatalogo',\n",
        "        'NumStorePurchases':'NumDeComprasNaLoja',\n",
        "        'NumWebVisitsMonth':'NumDeVisitasWebMensais',\n",
        "        'AcceptedCmp3':'Cmp3Recebido',\n",
        "        'AcceptedCmp4':'Cmp4Recebido',\n",
        "        'AcceptedCmp5':'Cmp5Recebido',\n",
        "        'AcceptedCmp1':'Cmp1Recebido',\n",
        "        'AcceptedCmp2':'Cmp2Recebido',\n",
        "        'Complain':'Reclamacoes',\n",
        "        'Response':'Resposta'\n",
        "        }\n",
        "\n",
        ", inplace=True\n",
        ")"
      ],
      "execution_count": null,
      "outputs": []
    },
    {
      "cell_type": "code",
      "metadata": {
        "id": "JHkK__WFZtSf"
      },
      "source": [
        "#Tradução da coluna \"Marital_Status\"\n",
        "\n",
        "df.loc[df.Estado_Civil == \"Divorced\", ['Estado_Civil']] = 'Divorciado(a)'\n",
        "df.loc[df.Estado_Civil == \"Together\", ['Estado_Civil']] = 'Juntos'\n",
        "df.loc[df.Estado_Civil == \"Widow\", ['Estado_Civil']] = 'Viuvo(a)'\n",
        "df.loc[df.Estado_Civil == \"YOLO\", ['Estado_Civil']] = 'Voce vive apenas uma vez'\n",
        "df.loc[df.Estado_Civil == \"Married\", ['Estado_Civil']] = 'Casado(a)'\n",
        "df.loc[df.Estado_Civil == \"Alone\", ['Estado_Civil']] = 'Sozinho'\n",
        "df.loc[df.Estado_Civil == \"Absurd\", ['Estado_Civil']] = 'Absurdo(a)'\n",
        "df.loc[df.Estado_Civil == \"Single\", ['Estado_Civil']] = 'Solteiro(a)'\n",
        "\n",
        "#Tradução da coluna \"Education\"\n",
        "\n",
        "df.loc[df.Nivel_de_Escolaridade == \"Basic\", ['Nivel_de_Escolaridade']] = 'Basico'\n",
        "df.loc[df.Nivel_de_Escolaridade == \"Master\", ['Nivel_de_Escolaridade']] = 'Mestrado'\n",
        "df.loc[df.Nivel_de_Escolaridade == \"2n Cycle\", ['Nivel_de_Escolaridade']] = 'Especialista'\n",
        "df.loc[df.Nivel_de_Escolaridade == \"Graduation\", ['Nivel_de_Escolaridade']] = 'Graduacao'\n"
      ],
      "execution_count": null,
      "outputs": []
    },
    {
      "cell_type": "markdown",
      "metadata": {
        "id": "Vv2br5ePxEK7"
      },
      "source": [
        "# Verificando inconsistência nos Dados"
      ]
    },
    {
      "cell_type": "code",
      "metadata": {
        "id": "gzhX8BT9wtaE",
        "colab": {
          "base_uri": "https://localhost:8080/"
        },
        "outputId": "cd718ca7-8922-4016-d8c0-a7e3f8b1cc53"
      },
      "source": [
        "#Verificando se os dados da coluna Z_Revenue são iguais\n",
        "sorted(pd.unique(df['Z_Revenue']))"
      ],
      "execution_count": null,
      "outputs": [
        {
          "output_type": "execute_result",
          "data": {
            "text/plain": [
              "[11]"
            ]
          },
          "metadata": {},
          "execution_count": 7
        }
      ]
    },
    {
      "cell_type": "code",
      "metadata": {
        "id": "R125tugqxRyY",
        "colab": {
          "base_uri": "https://localhost:8080/"
        },
        "outputId": "32b9eb94-2756-440b-f27c-49eb39606614"
      },
      "source": [
        "#Verificando se os dados da coluna Z_CostContact são iguais\n",
        "sorted(pd.unique(df['Z_CostContact'])) "
      ],
      "execution_count": null,
      "outputs": [
        {
          "output_type": "execute_result",
          "data": {
            "text/plain": [
              "[3]"
            ]
          },
          "metadata": {},
          "execution_count": 6
        }
      ]
    },
    {
      "cell_type": "code",
      "metadata": {
        "id": "eI3_SuNEjouw"
      },
      "source": [
        "sorted(pd.unique(df['Renda'])) "
      ],
      "execution_count": null,
      "outputs": []
    },
    {
      "cell_type": "code",
      "metadata": {
        "id": "GTRFLiZem0Pd"
      },
      "source": [
        "#Visualizando inconsistências para NaN ou NA\n",
        "filter = df.Renda.isnull()\n",
        "df.loc[filter]"
      ],
      "execution_count": null,
      "outputs": []
    },
    {
      "cell_type": "code",
      "metadata": {
        "id": "wDa7Ogq_m9IT"
      },
      "source": [
        "#Substitui renda por \"0\" para não dar drop em toda coluna e perder dados importantes\n",
        "df.loc[df.Renda.isnull(), ['Renda']] = 0"
      ],
      "execution_count": null,
      "outputs": []
    },
    {
      "cell_type": "markdown",
      "metadata": {
        "id": "hyGdbevxkkAL"
      },
      "source": [
        "# Realizar o drop(se necessário) de colunas do dataframe"
      ]
    },
    {
      "cell_type": "code",
      "metadata": {
        "id": "-vvlIVwPxWua"
      },
      "source": [
        "#Retorna valores vazios \n",
        "\n",
        "df.isna().sum() "
      ],
      "execution_count": null,
      "outputs": []
    },
    {
      "cell_type": "code",
      "metadata": {
        "id": "-v5Iud0fkmtC"
      },
      "source": [
        "#Foi observado que as colunas \"Z_CostContact, Z_Revenue\" possuem dados repetidos em todas as linhas. \n",
        "\n",
        "df.drop(['Z_CostContact','Z_Revenue'], axis=1, inplace=True)"
      ],
      "execution_count": null,
      "outputs": []
    },
    {
      "cell_type": "code",
      "metadata": {
        "id": "rp0jtpL_bT6q"
      },
      "source": [
        "df.to_csv('PandasMarketingCampaign.csv')"
      ],
      "execution_count": null,
      "outputs": []
    },
    {
      "cell_type": "markdown",
      "metadata": {
        "id": "IBOJyr_nb3m2"
      },
      "source": [
        "# PYSPARK"
      ]
    },
    {
      "cell_type": "code",
      "metadata": {
        "id": "ZlUSF4IubovG"
      },
      "source": [
        "!pip install PySpark"
      ],
      "execution_count": null,
      "outputs": []
    },
    {
      "cell_type": "code",
      "metadata": {
        "id": "cRSeAk2AbniR"
      },
      "source": [
        "import pyspark.sql.functions as F\n",
        "import pyspark\n",
        "from pyspark.sql import SparkSession\n",
        "from pyspark.sql.types import StructType,StructField, StringType, IntegerType, FloatType\n",
        "from pyspark.sql.types import ArrayType, DoubleType, BooleanType\n",
        "from pyspark.sql.functions import col,array_contains\n",
        "from pyspark.sql.window import Window"
      ],
      "execution_count": null,
      "outputs": []
    },
    {
      "cell_type": "code",
      "metadata": {
        "id": "T3gCrKlobxf1"
      },
      "source": [
        "spark = (\n",
        "    SparkSession.builder\n",
        "      .master('local')\n",
        "      .appName('dataframe_withcolumn')\n",
        "      .config('spark.ui.port', '4050')\n",
        "      .getOrCreate()\n",
        ")"
      ],
      "execution_count": null,
      "outputs": []
    },
    {
      "cell_type": "code",
      "metadata": {
        "id": "V5gi9K74d_dq"
      },
      "source": [
        "#Montando a estrutura do DataFrame utilizando o StructType\n",
        "\n",
        "Schema = StructType([\n",
        "    StructField(\"ID\", StringType(), True),\n",
        "    StructField(\"Ano_de_Nascimento\", IntegerType(), True),\n",
        "    StructField(\"Nivel_de_Escolaridade\", StringType(), True),\n",
        "    StructField(\"Estado_Civil\", StringType(), True),\n",
        "    StructField(\"Renda\", FloatType(), True),\n",
        "    StructField(\"Criancas_em_Casa\", IntegerType(), True),\n",
        "    StructField(\"Adolescentes_em_Casa\", IntegerType(), True),\n",
        "    StructField(\"DataDeOcorrencia\", StringType(), True),\n",
        "    StructField(\"Recente\", IntegerType(), True),\n",
        "    StructField(\"QntVinhos\", IntegerType(), True),\n",
        "    StructField(\"QntFrutas\", IntegerType(), True),\n",
        "    StructField(\"QntProdutos_Carne\", IntegerType(), True),\n",
        "    StructField(\"QntProdutos_Peixe\", IntegerType(), True),\n",
        "    StructField(\"QntProdutos_Doce\", IntegerType(), True),\n",
        "    StructField(\"Qnt_ProtudosDeOuro\", IntegerType(), True),\n",
        "    StructField(\"NumAcordoDeCompras\", IntegerType(), True),\n",
        "    StructField(\"NumDeComprasViaInternet\", IntegerType(), True),\n",
        "    StructField(\"NumDeComprasViaCatalogo\", IntegerType(), True),\n",
        "    StructField(\"NumDeComprasNaLoja\", IntegerType(), True),\n",
        "    StructField(\"NumDeVisitasWebMensais\", IntegerType(), True),\n",
        "    StructField(\"Cmp3Recebido3\", IntegerType(), True),\n",
        "    StructField(\"Cmp3Recebido4\", IntegerType(), True),\n",
        "    StructField(\"Cmp3Recebido5\", IntegerType(), True),\n",
        "    StructField(\"Cmp3Recebido1\", IntegerType(), True),\n",
        "    StructField(\"Cmp3Recebido2\", IntegerType(), True),\n",
        "    StructField(\"Reclamacoes\", IntegerType(), True),\n",
        "    StructField(\"ContatoDeCusto\", IntegerType(), True),\n",
        "    StructField(\"Receita\", IntegerType(), True),\n",
        "    StructField(\"Resposta\", IntegerType(), True),\n",
        "])\n",
        "\n",
        "#Lendo o arquivo CSV\n",
        "\n",
        "local_arquivo = \"/content/drive/MyDrive/Meus Dados/Mini Projeto Final/marketing_campaign.csv .csv\"\n",
        "\n",
        "df1 = spark.read.load(local_arquivo, format=\"csv\", header=\"true\", sep=',', schema=Schema)"
      ],
      "execution_count": null,
      "outputs": []
    },
    {
      "cell_type": "code",
      "metadata": {
        "id": "NVqiZzKNeS4g"
      },
      "source": [
        "df1.show(30)"
      ],
      "execution_count": null,
      "outputs": []
    },
    {
      "cell_type": "markdown",
      "metadata": {
        "id": "E_bV_lkGqgaj"
      },
      "source": [
        "# Realizar a mudança de nome de pelo menos 2 colunas"
      ]
    },
    {
      "cell_type": "code",
      "metadata": {
        "id": "eyw2p6-lf_Um"
      },
      "source": [
        "df1 = df1.withColumnRenamed('Renda', \"Renda_Usuario\")\n",
        "df1 = df1.withColumnRenamed('Nivel_de_Escolaridade', \"NivelDeEscolaridade\")"
      ],
      "execution_count": null,
      "outputs": []
    },
    {
      "cell_type": "markdown",
      "metadata": {
        "id": "2BxvH5n3i49B"
      },
      "source": [
        "# Deverá criar pelo menos duas novas colunas contendo alguma informação relevante sobre as outras colunas já existentes(Use a sua capacidade analítica)"
      ]
    },
    {
      "cell_type": "code",
      "metadata": {
        "id": "HMMfNHzwfP7o"
      },
      "source": [
        "#Adicionando uma Coluna com o número total de alimentos\n",
        "\n",
        "df1 = df1.withColumn(\"Qnt_de_Alimentos\", F.col(\"QntVinhos\") + F.col(\"QntFrutas\") + F.col(\"QntProdutos_Carne\") + F.col(\"QntProdutos_Peixe\") + F.col(\"QntProdutos_Doce\") + F.col(\"Qnt_ProtudosDeOuro\"))\n",
        "\n",
        "#Adicionando uma Coluna com o número total de pessoas menores de 18 anos\n",
        "\n",
        "df1 = df1.withColumn(\"Menores_18_anos\", F.col(\"Criancas_em_Casa\") + F.col(\"Adolescentes_em_Casa\"))\n"
      ],
      "execution_count": null,
      "outputs": []
    },
    {
      "cell_type": "markdown",
      "metadata": {
        "id": "XBs9a9-MmDuy"
      },
      "source": [
        "# Deverá utilizar filtros, ordenação e agrupamento, trazendo dados relevantes para o negócio em questão. (Use a sua capacidade analítica)"
      ]
    },
    {
      "cell_type": "code",
      "metadata": {
        "id": "DxSW_122mI5b"
      },
      "source": [
        "#Mostra a média das Rendas de acordo com a Escolaridade\n",
        "\n",
        "df1.groupBy(F.col(\"Nivel_de_Escolaridade\")).avg(\"Renda\").show()"
      ],
      "execution_count": null,
      "outputs": []
    },
    {
      "cell_type": "code",
      "metadata": {
        "id": "F7798ScbnX7G"
      },
      "source": [
        "#Mostra a soma de filhos de acordo com o Estado Civil\n",
        "\n",
        "df1.groupBy(F.col(\"Estado_Civil\")).sum(\"Menores_18_anos\").show()"
      ],
      "execution_count": null,
      "outputs": []
    },
    {
      "cell_type": "code",
      "metadata": {
        "id": "DP4S8n-IoyRv"
      },
      "source": [
        "#Retorna um lista de elementos distintos (Nivel de Escolaridade)\n",
        "\n",
        "df1.select(F.collect_set(\"Nivel_de_Escolaridade\")).show(truncate=False)"
      ],
      "execution_count": null,
      "outputs": []
    },
    {
      "cell_type": "code",
      "metadata": {
        "id": "GFdnfcEQsHoI"
      },
      "source": [
        "#Ordena a tabela pela quantidade de Alimentos\n",
        "\n",
        "df1.orderBy(\"Qnt_de_Alimentos\").show()"
      ],
      "execution_count": null,
      "outputs": []
    },
    {
      "cell_type": "markdown",
      "metadata": {
        "id": "AMjhkF8Nq4NW"
      },
      "source": [
        "# Utilizar pelo menos duas Window Functions"
      ]
    },
    {
      "cell_type": "code",
      "metadata": {
        "id": "HwTwwcIWrpiG"
      },
      "source": [
        "#Cria uma rank do nível de escolaridade ordenado pelo estado civil.\n",
        "\n",
        "w0 = Window.partitionBy(F.col(\"Nivel_de_Escolaridade\")).orderBy(F.col(\"Estado_Civil\"))\n",
        "df1.select('Nivel_de_Escolaridade', 'Estado_Civil').withColumn(\"dense_rank\", F.dense_rank().over(w0)).show(30)\n"
      ],
      "execution_count": null,
      "outputs": []
    },
    {
      "cell_type": "code",
      "metadata": {
        "id": "eMAbRAU4uVrL"
      },
      "source": [
        "#Cria um rank de Estado Civil ordenado pela Quantidade de Alimentos pulando de duas em duas linhas.\n",
        "\n",
        "w1 = Window.partitionBy(F.col(\"Estado_Civil\")).orderBy(F.col(\"Qnt_de_Alimentos\").desc())\n",
        "\n",
        "df1.select('ID', 'Estado_Civil', 'Qnt_de_Alimentos').withColumn(\"Próxima_Quantidade\", F.lead('Qnt_de_Alimentos', 2).over(w1)).show(200)\n"
      ],
      "execution_count": null,
      "outputs": []
    },
    {
      "cell_type": "code",
      "metadata": {
        "id": "rkSyMrtLmZIu"
      },
      "source": [
        "#Salva o arquivo no DRIVE\n",
        "\n",
        "df1.write.format(\"csv\").option(\"header\", \"true\").option(\"inferschema\", \"true\").option(\"delimiter\", \",\").save(\"/content/drive/MyDrive/SoulCodeDatas/df.marketing_campanign.csv\")"
      ],
      "execution_count": null,
      "outputs": []
    },
    {
      "cell_type": "markdown",
      "metadata": {
        "id": "AeK7Rr-B3hh6"
      },
      "source": [
        "# SparkSQL"
      ]
    },
    {
      "cell_type": "code",
      "metadata": {
        "id": "J6n_SDb615DS"
      },
      "source": [
        "(spark\n",
        "      .read\n",
        "      .format('csv')\n",
        "      .option('header', 'true')\n",
        "      .option('inferschema', 'true')\n",
        "      .option('delimiter', ',')\n",
        "      .load('/content/drive/MyDrive/Meus Dados/Mini Projeto Final/marketing_campaign.csv .csv')\n",
        "      .createOrReplaceTempView(\"tabela_marketing\")\n",
        ")"
      ],
      "execution_count": null,
      "outputs": []
    },
    {
      "cell_type": "code",
      "metadata": {
        "id": "NfODNzCd5KRA"
      },
      "source": [
        "spark.sql(\"SELECT * FROM tabela_marketing\").show()\n"
      ],
      "execution_count": null,
      "outputs": []
    },
    {
      "cell_type": "markdown",
      "metadata": {
        "id": "i9VT6hng5aEb"
      },
      "source": [
        "# Utilizar no minimo 10 consultas diferentes utilizando o SparkSQL, comentando o porquê de ter escolhido essas funções e explicando o que cada consulta faz.\n"
      ]
    },
    {
      "cell_type": "code",
      "metadata": {
        "id": "jqtn2ksZ8IhG"
      },
      "source": [
        "spark.sql(\"SELECT Education, Marital_Status, Income FROM tabela_marketing\").show()"
      ],
      "execution_count": null,
      "outputs": []
    },
    {
      "cell_type": "code",
      "metadata": {
        "id": "CzKhFWLK5Zke"
      },
      "source": [
        "#Mostram os dados referentes a Graduação e Doutorado. \n",
        "#A função WHERE filtra a coluna e o valor desejado. Importante para uma filtragem para pessoas com nível superior, neste caso.\n",
        "\n",
        "spark.sql(\"SELECT * FROM tabela_marketing WHERE Education = 'Graduation' OR Education = 'PhD' OR Education = 'Master'\").show()\n"
      ],
      "execution_count": null,
      "outputs": []
    },
    {
      "cell_type": "code",
      "metadata": {
        "id": "kCild7VC9JHy"
      },
      "source": [
        "#Fazer a contagem por Estado Civil\n",
        "#O COUNT é utilizado para fazer a contagem e o AS nomeia uma nova coluna.\n",
        "\n",
        "spark.sql(\"SELECT Marital_Status, COUNT(Marital_Status) AS Sum_Marital FROM tabela_marketing GROUP BY Marital_Status\").show()"
      ],
      "execution_count": null,
      "outputs": []
    },
    {
      "cell_type": "code",
      "metadata": {
        "id": "ewmK5hXQ-4OR"
      },
      "source": [
        "#Análise do máximo de compras de produtos (MntSweetProducts)\n",
        "#O MAX filtra o maior valor.\n",
        "\n",
        "spark.sql(\"SELECT MAX(MntSweetProducts) FROM tabela_marketing\").show()"
      ],
      "execution_count": null,
      "outputs": []
    },
    {
      "cell_type": "code",
      "metadata": {
        "id": "d7RpCVMDEAYX"
      },
      "source": [
        "#Análise do máximo de compras de produtos (MntSweetProducts)\n",
        "#O MAX filtra o maior valor.\n",
        "\n",
        "spark.sql(\"SELECT MIN(Income) FROM tabela_marketing\").show()"
      ],
      "execution_count": null,
      "outputs": []
    },
    {
      "cell_type": "code",
      "metadata": {
        "id": "We-1Ehj4FQQV"
      },
      "source": [
        "#Retorna a soma de todos os vinhos vendidos\n",
        "#O comando SUM soma os valores das colunas\n",
        "\n",
        "spark.sql(\"SELECT SUM(MntWines) FROM tabela_marketing\").show()"
      ],
      "execution_count": null,
      "outputs": []
    },
    {
      "cell_type": "code",
      "metadata": {
        "id": "TKm5KQTeFhiK"
      },
      "source": [
        "#Retorna a média de compras pela internet\n",
        "#O comando AVG é utilizado para tirar a média e ROUND para arrendondar.\n",
        "\n",
        "spark.sql(\"SELECT ROUND(AVG(NumWebPurchases), 2) AS Avg_WebPurchase FROM tabela_marketing\").show()\n"
      ],
      "execution_count": null,
      "outputs": []
    },
    {
      "cell_type": "code",
      "metadata": {
        "id": "SfBp0QzpKRaY"
      },
      "source": [
        "#Retorna a quantidade de vezes que o cliente retornou de acordo com seu grau de escolaridade.\n",
        "\n",
        "spark.sql(\"SELECT Education, COUNT(Recency) AS Count_Recency FROM tabela_marketing WHERE Education == 'PhD' GROUP BY Education\").show()"
      ],
      "execution_count": null,
      "outputs": []
    },
    {
      "cell_type": "code",
      "metadata": {
        "id": "Ts4p8njoLxw1"
      },
      "source": [
        "#Retorna a quantidade de pessoas que tem renda maior ou igual US$100,000.00 de acordo com seu grau de escolaridade.\n",
        "\n",
        "spark.sql(\"SELECT Education, COUNT(Income) AS Count_Income100k FROM tabela_marketing WHERE Income >= 100000 GROUP BY Education\").show()"
      ],
      "execution_count": null,
      "outputs": []
    },
    {
      "cell_type": "code",
      "metadata": {
        "id": "Qd7EtmQjOSZd"
      },
      "source": [
        "#Utilizei o comando o LIKE e filtrei as palavras que começam com a letra \"M\" na coluna Marital Status\n",
        "\n",
        "spark.sql(\"SELECT * FROM tabela_marketing WHERE Marital_Status LIKE 'M%'\").show()"
      ],
      "execution_count": null,
      "outputs": []
    },
    {
      "cell_type": "code",
      "metadata": {
        "id": "4zY2L_AAR35R"
      },
      "source": [
        "#Cria uma tablema com a soma, mínimo, máximo e média de vezes que o usuário retornou de acordo com a coluna Education.\n",
        "\n",
        "spark.sql(\"SELECT Condado, SUM(Casos_Confirmados) AS Sum_Casos_Confirmados, MIN(Casos_Confirmados) AS Min_Casos_Confirmados, MAX(Casos_Confirmados) AS Max_Casos_Confirmados, ROUND(AVG(Casos_Confirmados), 2) AS Avg_Casos_Confirmados FROM tabela_marketing GROUP BY Condado ORDER BY Condado\").show(30)"
      ],
      "execution_count": null,
      "outputs": []
    }
  ]
}