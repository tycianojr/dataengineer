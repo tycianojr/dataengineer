{
  "nbformat": 4,
  "nbformat_minor": 0,
  "metadata": {
    "colab": {
      "name": "Projeto_Final_csv",
      "provenance": [],
      "collapsed_sections": []
    },
    "kernelspec": {
      "name": "python3",
      "display_name": "Python 3"
    },
    "language_info": {
      "name": "python"
    }
  },
  "cells": [
    {
      "cell_type": "markdown",
      "metadata": {
        "id": "8VoQNtzqJGhw"
      },
      "source": [
        "# Base de dados usada para a realização desse projeto\n",
        "\n",
        "[COVID-19 Vaccinations in the United States, County](https://catalog.data.gov/dataset/covid-19-vaccinations-in-the-united-statescounty-8204e/resource/5c3af69e-46fc-494e-888b-63cc36845ede)"
      ]
    },
    {
      "cell_type": "code",
      "metadata": {
        "id": "JbJu3LZSJ3e_"
      },
      "source": [
        "#Instalando a Biblioteca Pandera (no Colab toda vez em que se inicia o notebook tem que fazer a instalação da bibliotera para ser utilizada)\n",
        "\n",
        "!pip install pandera"
      ],
      "execution_count": null,
      "outputs": []
    },
    {
      "cell_type": "markdown",
      "metadata": {
        "id": "n5Qva7Z13g2a"
      },
      "source": [
        "# Importando Bibliotecas para a utlização do pandas e para acessar o bucket do GCP"
      ]
    },
    {
      "cell_type": "code",
      "metadata": {
        "id": "iQqdQ9iS3LXo"
      },
      "source": [
        "from google.cloud import storage\n",
        "import pandas as pd\n",
        "import pandera as pa\n",
        "import io\n",
        "from io import BytesIO"
      ],
      "execution_count": null,
      "outputs": []
    },
    {
      "cell_type": "code",
      "metadata": {
        "id": "0EVFSl3T4Bgd"
      },
      "source": [
        "# Criando o client object\n",
        "\n",
        "storage_client = storage.Client.from_service_account_json(\"/content/chave_projeto-finalsc01-b94741ddd471.json\")"
      ],
      "execution_count": null,
      "outputs": []
    },
    {
      "cell_type": "markdown",
      "metadata": {
        "id": "8LHg0ELW4JS5"
      },
      "source": [
        "# Acessando o Bucket do Projeto"
      ]
    },
    {
      "cell_type": "code",
      "metadata": {
        "id": "ueN6j1XR4G-g"
      },
      "source": [
        "BUCKET_NAME = 'projeto-finalsc01'\n",
        "\n",
        "bucket = storage_client.get_bucket(BUCKET_NAME)"
      ],
      "execution_count": null,
      "outputs": []
    },
    {
      "cell_type": "markdown",
      "metadata": {
        "id": "gWpjs-eX4Q7x"
      },
      "source": [
        "# Listando os arquivos contidos no Bucket"
      ]
    },
    {
      "cell_type": "code",
      "metadata": {
        "id": "XuCIhwby4M2g"
      },
      "source": [
        "filename  = list(bucket.list_blobs(prefix=''))\n",
        "for name in filename:\n",
        "  print(name.name)"
      ],
      "execution_count": null,
      "outputs": []
    },
    {
      "cell_type": "markdown",
      "metadata": {
        "id": "SDM7wq9Y4flw"
      },
      "source": [
        "# Carregando o dataset .csv"
      ]
    },
    {
      "cell_type": "code",
      "metadata": {
        "id": "1ggOtbFJ4cI_"
      },
      "source": [
        "blop = bucket.blob(\"dados-brutos/COVID-19_Vaccinations_in_the_United_States_County.csv\")\n",
        "data = blop.download_as_string()"
      ],
      "execution_count": null,
      "outputs": []
    },
    {
      "cell_type": "markdown",
      "metadata": {
        "id": "wZvyrRAi4isA"
      },
      "source": [
        "# Criando um DataFrame utilizando pandas"
      ]
    },
    {
      "cell_type": "code",
      "metadata": {
        "id": "yQP0s3ke4hY6"
      },
      "source": [
        "df = pd.read_csv(io.BytesIO(data), encoding='utf-8', sep=',', parse_dates = [\"Date\"], dayfirst = True)\n",
        "\n",
        "df"
      ],
      "execution_count": null,
      "outputs": []
    },
    {
      "cell_type": "markdown",
      "metadata": {
        "id": "a4w_qSe15B94"
      },
      "source": [
        "# Analisando a base de dados"
      ]
    },
    {
      "cell_type": "code",
      "metadata": {
        "id": "ZGaf6JMW42uo"
      },
      "source": [
        "print(df.info())"
      ],
      "execution_count": null,
      "outputs": []
    },
    {
      "cell_type": "markdown",
      "metadata": {
        "id": "YEyOdgwSFsZC"
      },
      "source": [
        "Podemos verificar que a base de dados contém 1 coluna do tipo datetime, 22 colunas do tipo float, 4 colunas do tipo int e 5 colunas do tipo string\n",
        "\n",
        "Podemos verificar também que algumas colunas contém dados faltantes"
      ]
    },
    {
      "cell_type": "markdown",
      "metadata": {
        "id": "yi-W4L6f5M-p"
      },
      "source": [
        "# Traduzindo o Schema para Português-BR"
      ]
    },
    {
      "cell_type": "code",
      "metadata": {
        "id": "ZSzsSxsi5Du6"
      },
      "source": [
        "df.rename(columns={'Date': 'Data',\n",
        "                   'FIPS': 'CEPPIF', #Código Estadual Padrão de Processamento de Informações Federais\n",
        "                   'MMWR_week': 'Relatorio_semanal_morbidade_mortalidade', #controle e prevenção de doenças\n",
        "                   'Recip_County': 'Condado', #região em que reside o paciente\n",
        "                   'Recip_State': 'Estado', #estado em que reside o paciente\n",
        "                   'Series_Complete_Pop_Pct': 'Porcentagem_populacao_vacinada', #Porcentagem de pessoas que estão totalmente vacinadas (têm segunda dose de uma vacina de duas doses ou uma dose de uma vacina de dose única) com base na jurisdição e no condado onde vive o paciente\n",
        "                   'Series_Complete_Yes': 'Numero_total_vacinados', #Número total de pessoas que estão totalmente vacinadas (têm segunda dose de uma vacina de duas doses ou uma dose de uma vacina de dose única) com base na jurisdição e no condado onde vive o paciente\n",
        "                   'Series_Complete_12Plus': 'Numero_total_12+', #Número total de pessoas com mais de 12 anos que estão totalmente vacinadas (têm uma segunda dose de uma vacina de duas doses ou uma dose de uma vacina de dose única) com base na jurisdição onde vive o paciente\n",
        "                   'Series_Complete_12PlusPop_Pct': 'Porcentagem_total_12+', #Porcentagem de pessoas com mais de 12 anos que estão totalmente vacinadas (têm uma segunda dose de uma vacina de duas doses ou uma dose de uma vacina de dose única) com base na jurisdição onde vive o paciente\n",
        "                   'Series_Complete_18Plus': 'Numero_total_18+', #Número total de pessoas com mais de 18 anos que estão totalmente vacinadas (têm uma segunda dose de uma vacina de duas doses ou uma dose de uma vacina de dose única) com base na jurisdição e no condado onde vive o paciente\n",
        "                   'Series_Complete_18PlusPop_Pct': 'Porcentagem_total_18+', #Porcentagem de pessoas com mais de 18 anos que estão totalmente vacinadas (têm uma segunda dose de uma vacina de duas doses ou uma dose de uma vacina de dose única) com base na jurisdição e no condado onde vive o paciente\n",
        "                   'Series_Complete_65Plus': 'Numero_total_65+', #Número total de pessoas com mais de 65 anos que estão totalmente vacinadas (têm uma segunda dose de uma vacina de duas doses ou uma dose de uma vacina de dose única) com base na jurisdição onde vive o paciente\n",
        "                   'Series_Complete_65PlusPop_Pct': 'Porcentagem_total_65+', #Porcentagem de pessoas com mais de 65 anos que estão totalmente vacinadas (têm uma segunda dose de uma vacina de duas doses ou uma dose de uma vacina de dose única) com base na jurisdição onde vive o paciente\n",
        "                   'Completeness_pct': 'Porcentagem_total_pessoas_vacinadas', #Representa a proporção de pessoas totalmente vacinadas cujo código Federal Information Processing Standards (FIPS) é relatado e corresponde a um código FIPS de condado válido na jurisdição.\n",
        "                   'Administered_Dose1_Recip': 'Primeira_dose', #Pessoas com pelo menos uma dose por estado de residência\n",
        "                   'Administered_Dose1_Pop_Pct': 'Porcentagem_primeira_dose', #Porcentagem da População total com pelo menos uma dose por estado de residência\n",
        "                   'Administered_Dose1_Recip_12Plus': 'Primeira_dose_12+', #Pessoas com mais de 12 anos com pelo menos uma dose por estado de residência\n",
        "                   'Administered_Dose1_Recip_12PlusPop_Pct': 'Porcentagem_primeira_dose_12+', #Porcentagem de 12+ Pop com pelo menos uma dose por estado de residência\n",
        "                   'Administered_Dose1_Recip_18Plus': 'Primeira_dose_18+', #Pessoas com mais de 18 anos com pelo menos uma dose por estado de residência\n",
        "                   'Administered_Dose1_Recip_18PlusPop_Pct': 'Porcentagem_primeira_dose_18+', #Porcentagem de Pop 18+ com pelo menos uma dose por estado de residência\n",
        "                   'Administered_Dose1_Recip_65Plus': 'Primeira_dose_65+', #Pessoas com mais de 65 anos com pelo menos uma dose por estado de residência\n",
        "                   'Administered_Dose1_Recip_65PlusPop_Pct': 'Porcentagem_primeira_dose_65+', #Porcentagem de Pop com mais de 65 anos com pelo menos uma dose por estado de residência\n",
        "                   'SVI_CTGY': 'IVS_Categoria', #Índice de Vulnerabilidade Social por Categoria\n",
        "                   'Series_Complete_Pop_Pct_SVI': 'Porcentagem_total_pop_vacinada', #Porcentagem da população totalmente vacinada / IVS\n",
        "                   'Series_Complete_12PlusPop_Pct_SVI': 'Porcentagem_total_12+_IVS', #Porcentagem da população com 12+ totalmente vacinadas / IVS\n",
        "                   'Series_Complete_18PlusPop_Pct_SVI': 'Porcentagem_total_18+_IVS', #Porcentagem da população com 18+ totalmente vacinadas / IVS\n",
        "                   'Series_Complete_65PlusPop_Pct_SVI': 'Porcentagem_total_65+_IVS', #Porcentagem da população com 65+ totalmente vacinadas / IVS\n",
        "                   'Metro_status': 'Status_metropolitano', #Status da área metropolitana (se é uma área metropolitana ou não metropolitana)\n",
        "                   'Series_Complete_Pop_Pct_UR_Equity': 'Porcentagem_total_metropolitana/NaoMetropolitana', #Porcentagem da população totalmente vacinada - Metropolitana / Não Metropolitana\n",
        "                   'Series_Complete_12PlusPop_Pct_UR_Equity': 'Porcentagem_total_12+_metropolitana/NaoMetropolitana',  #Porcentagem da população com 12+ totalmente vacinada - Metropolitana / Não Metropolitana\n",
        "                   'Series_Complete_18PlusPop_Pct_UR_Equity': 'Porcentagem_total_18+_metropolitana/NaoMetropolitana', #Porcentagem da população com 18+ totalmente vacinada - Metropolitana / Não Metropolitana\n",
        "                   'Series_Complete_65PlusPop_Pct_UR_Equity': 'Porcentagem_total_65+_metropolitana/NaoMetropolitana' #Porcentagem da população com 65+ totalmente vacinada - Metropolitana / Não Metropolitana\n",
        "\n",
        "                   }, inplace = True)"
      ],
      "execution_count": null,
      "outputs": []
    },
    {
      "cell_type": "code",
      "metadata": {
        "id": "Tx9JiDe8J1g7"
      },
      "source": [
        "df.head()"
      ],
      "execution_count": null,
      "outputs": []
    },
    {
      "cell_type": "markdown",
      "metadata": {
        "id": "sUAbGGzgRCu9"
      },
      "source": [
        "# Verificando se a coluna **Relatorio_semanal_morbidade_mortalidade** contém valores únicos"
      ]
    },
    {
      "cell_type": "code",
      "metadata": {
        "id": "5uPK_TCIJ6_q"
      },
      "source": [
        "#Verificação realizada para saber o que cada código significava\n",
        "pd.unique(df['Relatorio_semanal_morbidade_mortalidade'])"
      ],
      "execution_count": null,
      "outputs": []
    },
    {
      "cell_type": "markdown",
      "metadata": {
        "id": "HHspJPo9Rl1W"
      },
      "source": [
        "# Deletando colunas que não fazem sentido para a análise de dados"
      ]
    },
    {
      "cell_type": "code",
      "metadata": {
        "id": "BS6SZFX3MVYZ"
      },
      "source": [
        "df.drop(['CEPPIF', 'Relatorio_semanal_morbidade_mortalidade', 'Porcentagem_populacao_vacinada'], axis = 1, inplace = True)"
      ],
      "execution_count": null,
      "outputs": []
    },
    {
      "cell_type": "markdown",
      "metadata": {
        "id": "Pr1SzLJmNK2e"
      },
      "source": [
        "\n",
        "\n",
        "1.   A coluna **CEPPIF** representa o código da região federal, como já temos o condado e o estado, não será necessária na base de dados.\n",
        "\n",
        "2.   Como não foi encontrado o que representa cada código da coluna **Relatorio_semanal_morbidade_mortalidade**, resolvemos dropar para não atrapalhar a análise de dados.\n",
        "\n",
        "3.   A coluna **Porcentagem_populacao_vacinada** faz referência a coluna **Relatorio_semanal_morbidade_mortalidade**, então não faz sentido deixar se não sabemos o que representa cada código da coluna de relatório."
      ]
    },
    {
      "cell_type": "code",
      "metadata": {
        "id": "Rjz1m-mHRbv8"
      },
      "source": [
        "df.head()"
      ],
      "execution_count": null,
      "outputs": []
    },
    {
      "cell_type": "markdown",
      "metadata": {
        "id": "ELjE7khgRvo8"
      },
      "source": [
        "# Verificando os valores nulos"
      ]
    },
    {
      "cell_type": "code",
      "metadata": {
        "id": "-u2qIkqGRhvs"
      },
      "source": [
        "df.isna().sum()"
      ],
      "execution_count": null,
      "outputs": []
    },
    {
      "cell_type": "markdown",
      "metadata": {
        "id": "J7ldsn5STfBT"
      },
      "source": [
        "# Deletando linhas com dados faltantes"
      ]
    },
    {
      "cell_type": "code",
      "metadata": {
        "colab": {
          "base_uri": "https://localhost:8080/"
        },
        "id": "0GhBxGLv6uYI",
        "outputId": "ad66945e-5a20-443b-feaf-49453337b476"
      },
      "source": [
        "#Verificando os valores conditos na coluna 'Status_metropolitano'\n",
        "pd.unique(df['Status_metropolitano'])"
      ],
      "execution_count": null,
      "outputs": [
        {
          "output_type": "execute_result",
          "data": {
            "text/plain": [
              "array(['Metro', 'Non-metro', nan], dtype=object)"
            ]
          },
          "metadata": {},
          "execution_count": 15
        }
      ]
    },
    {
      "cell_type": "code",
      "metadata": {
        "id": "nxwavRanfRLQ"
      },
      "source": [
        "#Deletando valores nulos da coluna 'Status_metropolitano'\n",
        "df.dropna(subset = ['Status_metropolitano'], inplace = True)"
      ],
      "execution_count": null,
      "outputs": []
    },
    {
      "cell_type": "code",
      "metadata": {
        "id": "9mxA3gDKKvDf"
      },
      "source": [
        "#Traduzindo os valores conditos na coluna 'Status_metropolitano'\n",
        "\n",
        "df.loc[df.Status_metropolitano == 'Metro', ['Status_metropolitano']] = 'Metropolitano'\n",
        "df.loc[df.Status_metropolitano == 'Non-metro', ['Status_metropolitano']] = 'Não Metropolitano'\n",
        "\n",
        "df.head()"
      ],
      "execution_count": null,
      "outputs": []
    },
    {
      "cell_type": "code",
      "metadata": {
        "colab": {
          "base_uri": "https://localhost:8080/"
        },
        "id": "scYKa0GIDiqb",
        "outputId": "aefbecfc-f552-4d0b-b9d9-1932a291f666"
      },
      "source": [
        "#Verificando os valores conditos na coluna 'IVS_Categoria'\n",
        "pd.unique(df['IVS_Categoria'])"
      ],
      "execution_count": null,
      "outputs": [
        {
          "output_type": "execute_result",
          "data": {
            "text/plain": [
              "array(['A', 'D', 'B', 'C', nan], dtype=object)"
            ]
          },
          "metadata": {},
          "execution_count": 18
        }
      ]
    },
    {
      "cell_type": "code",
      "metadata": {
        "id": "9OTpgPI-eyb5"
      },
      "source": [
        "#Deletando valores nulos da coluna 'IVS_Categoria'\n",
        "df.dropna(subset = ['IVS_Categoria'], inplace = True)"
      ],
      "execution_count": null,
      "outputs": []
    },
    {
      "cell_type": "code",
      "metadata": {
        "id": "2DAbDNiEEcoa"
      },
      "source": [
        "#Conferindo se os valores nulos das colunas 'Status_metropolitano' e 'IVS_Categoria' foram deletados\n",
        "df.isna().sum()"
      ],
      "execution_count": null,
      "outputs": []
    },
    {
      "cell_type": "markdown",
      "metadata": {
        "id": "MEdDuMUCXJPA"
      },
      "source": [
        "# Substituindo valores nulos por 0"
      ]
    },
    {
      "cell_type": "code",
      "metadata": {
        "id": "gQx1kfsIUEjT"
      },
      "source": [
        "#Substituindo os valores nulos das colunas restantes por 0 para facilitar a análise estatística do DataFrame\n",
        "df.fillna(0, inplace = True)"
      ],
      "execution_count": null,
      "outputs": []
    },
    {
      "cell_type": "code",
      "metadata": {
        "id": "RaEwBTkzXtzH"
      },
      "source": [
        "df.head()"
      ],
      "execution_count": null,
      "outputs": []
    },
    {
      "cell_type": "code",
      "metadata": {
        "id": "uOar-GKzXRgY"
      },
      "source": [
        "#Verificando se os valores nulos foram substituídos\n",
        "df.isna().sum()"
      ],
      "execution_count": null,
      "outputs": []
    },
    {
      "cell_type": "markdown",
      "metadata": {
        "id": "VvDkWF86tdr5"
      },
      "source": [
        "# Modificando o tipo de dado de algumas colunas para fazer a validação"
      ]
    },
    {
      "cell_type": "code",
      "metadata": {
        "id": "xBfNQw8ceenJ"
      },
      "source": [
        "print(df.info())"
      ],
      "execution_count": null,
      "outputs": []
    },
    {
      "cell_type": "code",
      "metadata": {
        "id": "Mzqtx5ULtzvz"
      },
      "source": [
        "#Modificando a coluna 'Numero_total_12+' de float para int\n",
        "df[['Numero_total_12+']] = df[['Numero_total_12+']].astype(int)\n",
        "\n",
        "#Modificando a coluna 'Primeira_dose' de float para int\n",
        "df[['Primeira_dose']] = df[['Primeira_dose']].astype(int)\n",
        "\n",
        "#Modificando a coluna 'Primeira_dose_12+' de float para int\n",
        "df[['Primeira_dose_12+']] = df[['Primeira_dose_12+']].astype(int)\n",
        "\n",
        "#Modificando a coluna 'Primeira_dose_18+' de float para int\n",
        "df[['Primeira_dose_18+']] = df[['Primeira_dose_18+']].astype(int)\n",
        "\n",
        "#Modificando a coluna 'Primeira_dose_65+' de float para int\n",
        "df[['Primeira_dose_65+']] = df[['Primeira_dose_65+']].astype(int)"
      ],
      "execution_count": null,
      "outputs": []
    },
    {
      "cell_type": "markdown",
      "metadata": {
        "id": "2HDT6hgoMFCr"
      },
      "source": [
        "# Validando os dados do DataFrame usando a biblioteca panderas"
      ]
    },
    {
      "cell_type": "code",
      "metadata": {
        "id": "N8zHsE7MMEvr"
      },
      "source": [
        "schema = pa.DataFrameSchema(\n",
        "    columns = {\n",
        "        \"Data\":pa.Column(pa.DateTime),\n",
        "        \"Condado\":pa.Column(pa.String),\n",
        "        \"Estado\":pa.Column(pa.String),\n",
        "        \"Numero_total_vacinados\":pa.Column(pa.Int),\n",
        "        \"Numero_total_12+\":pa.Column(pa.Int),\n",
        "        \"Porcentagem_total_12+\":pa.Column(pa.Float),\n",
        "        \"Numero_total_18+\":pa.Column(pa.Int),\n",
        "        \"Porcentagem_total_18+\":pa.Column(pa.Float),\n",
        "        \"Numero_total_65+\":pa.Column(pa.Int),\n",
        "        \"Porcentagem_total_65+\":pa.Column(pa.Float),\n",
        "        \"Porcentagem_total_pessoas_vacinadas\":pa.Column(pa.Float),\n",
        "        \"Primeira_dose\":pa.Column(pa.Int),\n",
        "        \"Porcentagem_primeira_dose\":pa.Column(pa.Float),\n",
        "        \"Primeira_dose_12+\":pa.Column(pa.Int),\n",
        "        \"Porcentagem_primeira_dose_12+\":pa.Column(pa.Float),\n",
        "        \"Primeira_dose_18+\":pa.Column(pa.Int),\n",
        "        \"Porcentagem_primeira_dose_18+\":pa.Column(pa.Float),\n",
        "        \"Primeira_dose_65+\":pa.Column(pa.Int),\n",
        "        \"Porcentagem_primeira_dose_65+\":pa.Column(pa.Float),\n",
        "        \"IVS_Categoria\":pa.Column(pa.String),\n",
        "        \"Porcentagem_total_pop_vacinada\":pa.Column(pa.Float),\n",
        "        \"Porcentagem_total_12+_IVS\":pa.Column(pa.Float),\n",
        "        \"Porcentagem_total_18+_IVS\":pa.Column(pa.Float),\n",
        "        \"Porcentagem_total_65+_IVS\":pa.Column(pa.Float),\n",
        "        \"Status_metropolitano\":pa.Column(pa.String),\n",
        "        \"Porcentagem_total_metropolitana/NaoMetropolitana\":pa.Column(pa.Float),\n",
        "        \"Porcentagem_total_12+_metropolitana/NaoMetropolitana\":pa.Column(pa.Float),\n",
        "        \"Porcentagem_total_18+_metropolitana/NaoMetropolitana\":pa.Column(pa.Float),\n",
        "        \"Porcentagem_total_65+_metropolitana/NaoMetropolitana\":pa.Column(pa.Float)\n",
        "\n",
        "    }\n",
        ")\n",
        "\n",
        "schema.validate(df)"
      ],
      "execution_count": null,
      "outputs": []
    },
    {
      "cell_type": "markdown",
      "metadata": {
        "id": "SaGhGqHaL4RK"
      },
      "source": [
        "# Salvando as transformações realizadas no DataFrame para o Bucket do GCP"
      ]
    },
    {
      "cell_type": "code",
      "metadata": {
        "id": "vp6vEwt1qPcW"
      },
      "source": [
        "bucket = storage_client.get_bucket('projeto-finalsc01')\n",
        "bucket.blob('dados-tratados/Vacinacoes_nos_EUA.csv').upload_from_string(df.to_csv(index=False),'Vacinacoes_nos_EUA.csv' )"
      ],
      "execution_count": null,
      "outputs": []
    }
  ]
}